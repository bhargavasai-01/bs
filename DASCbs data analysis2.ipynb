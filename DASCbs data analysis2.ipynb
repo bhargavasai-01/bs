{
  "nbformat": 4,
  "nbformat_minor": 0,
  "metadata": {
    "colab": {
      "provenance": []
    },
    "kernelspec": {
      "name": "python3",
      "display_name": "Python 3"
    },
    "language_info": {
      "name": "python"
    }
  },
  "cells": [
    {
      "cell_type": "markdown",
      "metadata": {
        "id": "IomjkHgqwz2H"
      },
      "source": [
        "# CSE 5334, spring 2023, University of Texas at Arlington\n",
        "# Programming Assignment 1\n",
        "\n",
        "\n",
        "## **Academic Honesty**\n",
        "This assignment must be done individually and independently. You must implement the whole assignment by yourself. Academic dishonesty is not tolerated.\n",
        "\n",
        "## **Requirements**\n",
        "\n",
        "1.   When you work on this assignment, you should make a copy of this notebook in Google Colab. This can be done using the option `File > Save a copy in Drive` in Google Colab. \n",
        "2.   You should fill in your answer for each task inside the code block right under the task. \n",
        "3.   You should only insert your code into the designated code blocks, as mentioned above. Other than that, you shouldn't change anything else in the notebook.\n",
        "\n",
        "5.  Most of the tasks can be solved with 1 line of code. But you are allowed to use up to 3 lines of code for any task (except Task 10 for which your answer can be longer). \n",
        "6.   You may not use any other imports to solve the tasks. In other words, you shouldn't use `import` in any designated code blocks for the tasks.\n",
        "7.   You should not use any loops, if statement, or list/dictionary comprehensions, except for Task 10. You can solve all the tasks by only using features and functions from pandas. \n",
        "8.   Even if you can only partially solve a task, you should include your code in the code block, which allows us to consider partial credit. \n",
        "9.   However, your code should not raise errors. Any code raising errors will not get partial credit. \n",
        "10.   vehicule_share.csv,task5.pkl and task9.pkl are the files that  will be used in the assigment1 and their link is in DataSet in modules section in canvas.https://drive.google.com/drive/folders/1hnymJoBCzZdP_B-x4ISb7z4I4BMS2s8T?usp=sharing)\n",
        "11.   To submit your assignment, download your Colab into a .ipynb file. This can be done using the option `Download > Download .ipynb` in Google Colab.\n",
        "12.   Submit the downloaded .ipynb file into the Programming Assignment 2 entry in Canvas.\n"
      ]
    },
    {
      "cell_type": "markdown",
      "metadata": {
        "id": "VE5MRfJg33ZR"
      },
      "source": [
        "## **Dataset**"
      ]
    },
    {
      "cell_type": "markdown",
      "metadata": {
        "id": "9GS0NxL6zpr4"
      },
      "source": [
        "In this assignment, we will do data munging and analysis on a dataset about vehicle sharing. You can run the following code to download the dataset and load it into a `DataFrame` `trips`."
      ]
    },
    {
      "cell_type": "markdown",
      "source": [
        "This dataset is generated from a vehicle sharing service. Every row represents a trip and has the following columns: \n",
        "- *Start Time* - The time when the trip started\n",
        "- *End Time* - The time when the trip ended\n",
        "- *Trip Duration* - Total time duration (in seconds) of the trip\n",
        "- *Start Station* - Name of the trip's start station\n",
        "- *End Station* - Name of the trip's end station\n",
        "- *User Type* -  Type of the user. **Subscriber** refers to the users that subscribed to the service; **Customer** refers the users who take rides without any subscription. \n",
        "- *Birth Year* - The birth year of the user"
      ],
      "metadata": {
        "id": "0o13r5YzqC68"
      }
    },
    {
      "cell_type": "code",
      "metadata": {
        "id": "V086f30K-dE7",
        "colab": {
          "base_uri": "https://localhost:8080/"
        },
        "outputId": "69a0e902-39ad-42fb-c75b-6796e966026b"
      },
      "source": [
        "# special IPython command to prepare the notebook for matplotlib\n",
        "%matplotlib inline \n",
        "\n",
        "#Array processing\n",
        "import numpy as np\n",
        "#Data analysis, wrangling and common exploratory operations\n",
        "import pandas as pd\n",
        "\n",
        "from itertools import chain\n",
        "\n",
        "#For visualization. Matplotlib for basic visualization and seaborn for more stylish figures\n",
        "import matplotlib.pyplot as plt\n",
        "import seaborn as sns\n",
        "\n",
        "!curl -L -o vehicle_share.csv \"https://drive.google.com/uc?export=download&id=1g2TjniSa8pZvwmRPYSbPhlnkcdHxNtre\"\n",
        "\n",
        "!curl -L -o task5.pkl \"https://drive.google.com/uc?export=download&id=1uH_J8myaXfc2asZBsT_0uN8YuqLz4lPm\"\n",
        "\n",
        "!curl -L -o task9.pkl \"https://drive.google.com/uc?export=download&id=1BcYHgR4brGh7FUKBW5YLPCPzw0xxjq7o\"\n",
        "\n",
        "!curl -L -o task10.pkl \"https://drive.google.com/uc?export=download&id=1e-l6MmgiBiAWt8mtamyoazo7llBt3ghl\""
      ],
      "execution_count": 1,
      "outputs": [
        {
          "output_type": "stream",
          "name": "stdout",
          "text": [
            "  % Total    % Received % Xferd  Average Speed   Time    Time     Time  Current\n",
            "                                 Dload  Upload   Total   Spent    Left  Speed\n",
            "  0     0    0     0    0     0      0      0 --:--:--  0:00:01 --:--:--     0\n",
            "100 21.9M  100 21.9M    0     0  13.8M      0  0:00:01  0:00:01 --:--:-- 13.8M\n",
            "  % Total    % Received % Xferd  Average Speed   Time    Time     Time  Current\n",
            "                                 Dload  Upload   Total   Spent    Left  Speed\n",
            "  0     0    0     0    0     0      0      0 --:--:-- --:--:-- --:--:--     0\n",
            "100 9748k  100 9748k    0     0  11.3M      0 --:--:-- --:--:-- --:--:-- 11.3M\n",
            "  % Total    % Received % Xferd  Average Speed   Time    Time     Time  Current\n",
            "                                 Dload  Upload   Total   Spent    Left  Speed\n",
            "  0     0    0     0    0     0      0      0 --:--:--  0:00:04 --:--:--     0\n",
            "100 10.9M  100 10.9M    0     0  2101k      0  0:00:05  0:00:05 --:--:-- 41.0M\n",
            "  % Total    % Received % Xferd  Average Speed   Time    Time     Time  Current\n",
            "                                 Dload  Upload   Total   Spent    Left  Speed\n",
            "  0     0    0     0    0     0      0      0 --:--:-- --:--:-- --:--:--     0\n",
            "100 11.9M  100 11.9M    0     0  10.5M      0  0:00:01  0:00:01 --:--:-- 35.3M\n"
          ]
        }
      ]
    },
    {
      "cell_type": "code",
      "source": [
        "#load the file  vehicle_share.csv into a dataframe trips\n",
        "trips = pd.read_csv('vehicle_share.csv')\n",
        "#return the first 5 rows of the dataset \n",
        "trips.head()"
      ],
      "metadata": {
        "id": "hE2FrHxeG9em",
        "colab": {
          "base_uri": "https://localhost:8080/",
          "height": 206
        },
        "outputId": "7e951aa3-bf6d-4878-aba6-d3d2882c0971"
      },
      "execution_count": 2,
      "outputs": [
        {
          "output_type": "execute_result",
          "data": {
            "text/plain": [
              "        ID           Start Time             End Time  Trip Duration  \\\n",
              "0   955915  2017-05-25 18:19:03  2017-05-25 18:45:53         1610.0   \n",
              "1   961916  2017-05-26 09:41:44  2017-05-26 09:46:25          281.0   \n",
              "2  1023296  2017-05-30 15:46:18  2017-05-30 15:52:12          354.0   \n",
              "3   958716  2017-05-25 22:59:33  2017-05-25 23:07:19          466.0   \n",
              "4   718598  2017-05-03 13:20:38  2017-05-03 13:31:13          635.0   \n",
              "\n",
              "                Start Station                     End Station   User Type  \\\n",
              "0         Theater on the Lake    Sheffield Ave & Waveland Ave  Subscriber   \n",
              "1       Ashland Ave & Lake St            Wood St & Hubbard St  Subscriber   \n",
              "2  Larrabee St & Kingsbury St               Clark St & Elm St  Subscriber   \n",
              "3     Clark St & Armitage Ave  Sheffield Ave & Wrightwood Ave  Subscriber   \n",
              "4    Ada St & Washington Blvd              Daley Center Plaza  Subscriber   \n",
              "\n",
              "   Gender  Birth Year  \n",
              "0  Female      1992.0  \n",
              "1  Female      1983.0  \n",
              "2    Male      1985.0  \n",
              "3  Female      1985.0  \n",
              "4    Male      1967.0  "
            ],
            "text/html": [
              "\n",
              "  <div id=\"df-3103a025-bd96-4f1b-8274-dbf47fa7401b\">\n",
              "    <div class=\"colab-df-container\">\n",
              "      <div>\n",
              "<style scoped>\n",
              "    .dataframe tbody tr th:only-of-type {\n",
              "        vertical-align: middle;\n",
              "    }\n",
              "\n",
              "    .dataframe tbody tr th {\n",
              "        vertical-align: top;\n",
              "    }\n",
              "\n",
              "    .dataframe thead th {\n",
              "        text-align: right;\n",
              "    }\n",
              "</style>\n",
              "<table border=\"1\" class=\"dataframe\">\n",
              "  <thead>\n",
              "    <tr style=\"text-align: right;\">\n",
              "      <th></th>\n",
              "      <th>ID</th>\n",
              "      <th>Start Time</th>\n",
              "      <th>End Time</th>\n",
              "      <th>Trip Duration</th>\n",
              "      <th>Start Station</th>\n",
              "      <th>End Station</th>\n",
              "      <th>User Type</th>\n",
              "      <th>Gender</th>\n",
              "      <th>Birth Year</th>\n",
              "    </tr>\n",
              "  </thead>\n",
              "  <tbody>\n",
              "    <tr>\n",
              "      <th>0</th>\n",
              "      <td>955915</td>\n",
              "      <td>2017-05-25 18:19:03</td>\n",
              "      <td>2017-05-25 18:45:53</td>\n",
              "      <td>1610.0</td>\n",
              "      <td>Theater on the Lake</td>\n",
              "      <td>Sheffield Ave &amp; Waveland Ave</td>\n",
              "      <td>Subscriber</td>\n",
              "      <td>Female</td>\n",
              "      <td>1992.0</td>\n",
              "    </tr>\n",
              "    <tr>\n",
              "      <th>1</th>\n",
              "      <td>961916</td>\n",
              "      <td>2017-05-26 09:41:44</td>\n",
              "      <td>2017-05-26 09:46:25</td>\n",
              "      <td>281.0</td>\n",
              "      <td>Ashland Ave &amp; Lake St</td>\n",
              "      <td>Wood St &amp; Hubbard St</td>\n",
              "      <td>Subscriber</td>\n",
              "      <td>Female</td>\n",
              "      <td>1983.0</td>\n",
              "    </tr>\n",
              "    <tr>\n",
              "      <th>2</th>\n",
              "      <td>1023296</td>\n",
              "      <td>2017-05-30 15:46:18</td>\n",
              "      <td>2017-05-30 15:52:12</td>\n",
              "      <td>354.0</td>\n",
              "      <td>Larrabee St &amp; Kingsbury St</td>\n",
              "      <td>Clark St &amp; Elm St</td>\n",
              "      <td>Subscriber</td>\n",
              "      <td>Male</td>\n",
              "      <td>1985.0</td>\n",
              "    </tr>\n",
              "    <tr>\n",
              "      <th>3</th>\n",
              "      <td>958716</td>\n",
              "      <td>2017-05-25 22:59:33</td>\n",
              "      <td>2017-05-25 23:07:19</td>\n",
              "      <td>466.0</td>\n",
              "      <td>Clark St &amp; Armitage Ave</td>\n",
              "      <td>Sheffield Ave &amp; Wrightwood Ave</td>\n",
              "      <td>Subscriber</td>\n",
              "      <td>Female</td>\n",
              "      <td>1985.0</td>\n",
              "    </tr>\n",
              "    <tr>\n",
              "      <th>4</th>\n",
              "      <td>718598</td>\n",
              "      <td>2017-05-03 13:20:38</td>\n",
              "      <td>2017-05-03 13:31:13</td>\n",
              "      <td>635.0</td>\n",
              "      <td>Ada St &amp; Washington Blvd</td>\n",
              "      <td>Daley Center Plaza</td>\n",
              "      <td>Subscriber</td>\n",
              "      <td>Male</td>\n",
              "      <td>1967.0</td>\n",
              "    </tr>\n",
              "  </tbody>\n",
              "</table>\n",
              "</div>\n",
              "      <button class=\"colab-df-convert\" onclick=\"convertToInteractive('df-3103a025-bd96-4f1b-8274-dbf47fa7401b')\"\n",
              "              title=\"Convert this dataframe to an interactive table.\"\n",
              "              style=\"display:none;\">\n",
              "        \n",
              "  <svg xmlns=\"http://www.w3.org/2000/svg\" height=\"24px\"viewBox=\"0 0 24 24\"\n",
              "       width=\"24px\">\n",
              "    <path d=\"M0 0h24v24H0V0z\" fill=\"none\"/>\n",
              "    <path d=\"M18.56 5.44l.94 2.06.94-2.06 2.06-.94-2.06-.94-.94-2.06-.94 2.06-2.06.94zm-11 1L8.5 8.5l.94-2.06 2.06-.94-2.06-.94L8.5 2.5l-.94 2.06-2.06.94zm10 10l.94 2.06.94-2.06 2.06-.94-2.06-.94-.94-2.06-.94 2.06-2.06.94z\"/><path d=\"M17.41 7.96l-1.37-1.37c-.4-.4-.92-.59-1.43-.59-.52 0-1.04.2-1.43.59L10.3 9.45l-7.72 7.72c-.78.78-.78 2.05 0 2.83L4 21.41c.39.39.9.59 1.41.59.51 0 1.02-.2 1.41-.59l7.78-7.78 2.81-2.81c.8-.78.8-2.07 0-2.86zM5.41 20L4 18.59l7.72-7.72 1.47 1.35L5.41 20z\"/>\n",
              "  </svg>\n",
              "      </button>\n",
              "      \n",
              "  <style>\n",
              "    .colab-df-container {\n",
              "      display:flex;\n",
              "      flex-wrap:wrap;\n",
              "      gap: 12px;\n",
              "    }\n",
              "\n",
              "    .colab-df-convert {\n",
              "      background-color: #E8F0FE;\n",
              "      border: none;\n",
              "      border-radius: 50%;\n",
              "      cursor: pointer;\n",
              "      display: none;\n",
              "      fill: #1967D2;\n",
              "      height: 32px;\n",
              "      padding: 0 0 0 0;\n",
              "      width: 32px;\n",
              "    }\n",
              "\n",
              "    .colab-df-convert:hover {\n",
              "      background-color: #E2EBFA;\n",
              "      box-shadow: 0px 1px 2px rgba(60, 64, 67, 0.3), 0px 1px 3px 1px rgba(60, 64, 67, 0.15);\n",
              "      fill: #174EA6;\n",
              "    }\n",
              "\n",
              "    [theme=dark] .colab-df-convert {\n",
              "      background-color: #3B4455;\n",
              "      fill: #D2E3FC;\n",
              "    }\n",
              "\n",
              "    [theme=dark] .colab-df-convert:hover {\n",
              "      background-color: #434B5C;\n",
              "      box-shadow: 0px 1px 3px 1px rgba(0, 0, 0, 0.15);\n",
              "      filter: drop-shadow(0px 1px 2px rgba(0, 0, 0, 0.3));\n",
              "      fill: #FFFFFF;\n",
              "    }\n",
              "  </style>\n",
              "\n",
              "      <script>\n",
              "        const buttonEl =\n",
              "          document.querySelector('#df-3103a025-bd96-4f1b-8274-dbf47fa7401b button.colab-df-convert');\n",
              "        buttonEl.style.display =\n",
              "          google.colab.kernel.accessAllowed ? 'block' : 'none';\n",
              "\n",
              "        async function convertToInteractive(key) {\n",
              "          const element = document.querySelector('#df-3103a025-bd96-4f1b-8274-dbf47fa7401b');\n",
              "          const dataTable =\n",
              "            await google.colab.kernel.invokeFunction('convertToInteractive',\n",
              "                                                     [key], {});\n",
              "          if (!dataTable) return;\n",
              "\n",
              "          const docLinkHtml = 'Like what you see? Visit the ' +\n",
              "            '<a target=\"_blank\" href=https://colab.research.google.com/notebooks/data_table.ipynb>data table notebook</a>'\n",
              "            + ' to learn more about interactive tables.';\n",
              "          element.innerHTML = '';\n",
              "          dataTable['output_type'] = 'display_data';\n",
              "          await google.colab.output.renderOutput(dataTable, element);\n",
              "          const docLink = document.createElement('div');\n",
              "          docLink.innerHTML = docLinkHtml;\n",
              "          element.appendChild(docLink);\n",
              "        }\n",
              "      </script>\n",
              "    </div>\n",
              "  </div>\n",
              "  "
            ]
          },
          "metadata": {},
          "execution_count": 2
        }
      ]
    },
    {
      "cell_type": "markdown",
      "metadata": {
        "id": "iSq1jdSH98fR"
      },
      "source": [
        "Let's gain some basic understanding of the dataset"
      ]
    },
    {
      "cell_type": "code",
      "metadata": {
        "id": "N7wTresvdVWl",
        "colab": {
          "base_uri": "https://localhost:8080/"
        },
        "outputId": "a8df23ed-8613-4f5d-8c1e-7d30bd8504a1"
      },
      "source": [
        "#For each task below, look for a Pandas function to do the task.\n",
        "print(\"dimension:\",np.ndim(trips))\n",
        "#b=np.shape(trips)\n",
        "#c=np.size(trips)\n",
        "print(\"trips_features:\" ,trips.columns)\n",
        "print(\"stats:\\n\" ,trips.describe())\n",
        "#Task a: Print the details of the df_data data frame (information such as dimensionality, names of features (note that there's no target variable here), statistical details, etc)\n",
        "\n",
        "print(\"count of end stations :\\n\",trips['End Station'].value_counts())\n",
        "print(\"\\n\")\n",
        "#Task b: Print the Name of the trip's end station used in the dataset with the number of their occurences\n",
        "\n",
        "print(\"number of duplicates:\",len(trips[trips.duplicated()]))\n",
        "trips = trips.drop_duplicates()\n",
        "print(len(trips[trips.duplicated()]))\n",
        "#Task c: Print the number of duplicated rows in the dataset and remove the duplicated rows\n"
      ],
      "execution_count": 3,
      "outputs": [
        {
          "output_type": "stream",
          "name": "stdout",
          "text": [
            "dimension: 2\n",
            "trips_features: Index(['ID', 'Start Time', 'End Time', 'Trip Duration', 'Start Station',\n",
            "       'End Station', 'User Type', 'Gender', 'Birth Year'],\n",
            "      dtype='object')\n",
            "stats:\n",
            "                  ID  Trip Duration     Birth Year\n",
            "count  1.919630e+05  191963.000000  110501.000000\n",
            "mean   2.171588e+06    1059.270001    1979.681306\n",
            "std    1.604157e+06    4303.460797      11.427317\n",
            "min    7.003540e+05      60.000000    1886.000000\n",
            "25%    9.496235e+05     406.000000    1972.000000\n",
            "50%    1.183765e+06     694.000000    1983.000000\n",
            "75%    3.991690e+06    1186.823000    1989.000000\n",
            "max    5.084641e+06  885567.607000    2016.000000\n",
            "count of end stations :\n",
            " Streeter Dr & Grand Ave               1939\n",
            "Columbus Circle / Union Station       1158\n",
            "Lake Shore Dr & Monroe St             1117\n",
            "Lincoln Memorial                      1072\n",
            "Jefferson Dr & 14th St SW             1070\n",
            "                                      ... \n",
            "Shields Ave & 43rd St                    1\n",
            "Jones Branch & Westbranch Dr             1\n",
            "Bike The Branches - Central Branch       1\n",
            "Ellis Ave & 83rd St                      1\n",
            "Bressler                                 1\n",
            "Name: End Station, Length: 1618, dtype: int64\n",
            "\n",
            "\n",
            "number of duplicates: 0\n",
            "0\n"
          ]
        }
      ]
    },
    {
      "cell_type": "markdown",
      "metadata": {
        "id": "krfuevEb-a9c"
      },
      "source": [
        "## **Need for data cleaning and preprocessing**\n",
        "\n",
        "The results of these several functions indicate a few needs for cleaning and preprocessing the data:\n",
        "\n",
        "1) The column `Birth Year` should be integer, but it has floating point values.\n",
        "\n",
        "2) There are null values in a few columns. \n",
        "\n",
        "3) The values in columns `Start Time` and `End Time` are strings. We need to convert them to `datetime` values.\n"
      ]
    },
    {
      "cell_type": "markdown",
      "metadata": {
        "id": "dg9W0E7nGRrF"
      },
      "source": [
        "Let's find out which columns have null values. This could be derived from the `Non-Null Count` in the output of `trips.info()`. But there are simpler ways."
      ]
    },
    {
      "cell_type": "markdown",
      "metadata": {
        "id": "dCZk1EMcw_aB"
      },
      "source": [
        "## **Task 1: For each column, find the number of rows with null value in that column.** \n",
        "\n",
        "If your code for this task is correct, its output should tell you that two columns have null values --- column `Gender` has missing value in 81676 rows and 81462 for column `Birth Year`. Other columns have no null values. "
      ]
    },
    {
      "cell_type": "code",
      "metadata": {
        "id": "6vGs8aLSgTB2",
        "colab": {
          "base_uri": "https://localhost:8080/"
        },
        "outputId": "5b3a1371-8e43-4a35-d330-02450ea9a67f"
      },
      "source": [
        "# Code for Task 1\n",
        "trips.isnull().sum()"
      ],
      "execution_count": 4,
      "outputs": [
        {
          "output_type": "execute_result",
          "data": {
            "text/plain": [
              "ID                   0\n",
              "Start Time           0\n",
              "End Time             0\n",
              "Trip Duration        0\n",
              "Start Station        0\n",
              "End Station          0\n",
              "User Type            0\n",
              "Gender           81676\n",
              "Birth Year       81462\n",
              "dtype: int64"
            ]
          },
          "metadata": {},
          "execution_count": 4
        }
      ]
    },
    {
      "cell_type": "markdown",
      "metadata": {
        "id": "agWBWQcxzSOO"
      },
      "source": [
        "\n",
        "\n",
        "The `ID` column is not useful in our analysis. Hence, let's take it out. \n",
        "\n",
        "## **Task 2: Remove the `ID` column from the DataFrame `trips`.**"
      ]
    },
    {
      "cell_type": "code",
      "metadata": {
        "id": "pb5JfRdrz3SX",
        "colab": {
          "base_uri": "https://localhost:8080/",
          "height": 206
        },
        "outputId": "78da2e6e-390e-4c86-99cd-2a37bb8501f8"
      },
      "source": [
        "# Code for Task 2\n",
        "trips=trips.drop(\"ID\",axis=1)\n",
        "trips.head()"
      ],
      "execution_count": 5,
      "outputs": [
        {
          "output_type": "execute_result",
          "data": {
            "text/plain": [
              "            Start Time             End Time  Trip Duration  \\\n",
              "0  2017-05-25 18:19:03  2017-05-25 18:45:53         1610.0   \n",
              "1  2017-05-26 09:41:44  2017-05-26 09:46:25          281.0   \n",
              "2  2017-05-30 15:46:18  2017-05-30 15:52:12          354.0   \n",
              "3  2017-05-25 22:59:33  2017-05-25 23:07:19          466.0   \n",
              "4  2017-05-03 13:20:38  2017-05-03 13:31:13          635.0   \n",
              "\n",
              "                Start Station                     End Station   User Type  \\\n",
              "0         Theater on the Lake    Sheffield Ave & Waveland Ave  Subscriber   \n",
              "1       Ashland Ave & Lake St            Wood St & Hubbard St  Subscriber   \n",
              "2  Larrabee St & Kingsbury St               Clark St & Elm St  Subscriber   \n",
              "3     Clark St & Armitage Ave  Sheffield Ave & Wrightwood Ave  Subscriber   \n",
              "4    Ada St & Washington Blvd              Daley Center Plaza  Subscriber   \n",
              "\n",
              "   Gender  Birth Year  \n",
              "0  Female      1992.0  \n",
              "1  Female      1983.0  \n",
              "2    Male      1985.0  \n",
              "3  Female      1985.0  \n",
              "4    Male      1967.0  "
            ],
            "text/html": [
              "\n",
              "  <div id=\"df-5e821fab-5f7a-4bcd-ac96-091e2c645c68\">\n",
              "    <div class=\"colab-df-container\">\n",
              "      <div>\n",
              "<style scoped>\n",
              "    .dataframe tbody tr th:only-of-type {\n",
              "        vertical-align: middle;\n",
              "    }\n",
              "\n",
              "    .dataframe tbody tr th {\n",
              "        vertical-align: top;\n",
              "    }\n",
              "\n",
              "    .dataframe thead th {\n",
              "        text-align: right;\n",
              "    }\n",
              "</style>\n",
              "<table border=\"1\" class=\"dataframe\">\n",
              "  <thead>\n",
              "    <tr style=\"text-align: right;\">\n",
              "      <th></th>\n",
              "      <th>Start Time</th>\n",
              "      <th>End Time</th>\n",
              "      <th>Trip Duration</th>\n",
              "      <th>Start Station</th>\n",
              "      <th>End Station</th>\n",
              "      <th>User Type</th>\n",
              "      <th>Gender</th>\n",
              "      <th>Birth Year</th>\n",
              "    </tr>\n",
              "  </thead>\n",
              "  <tbody>\n",
              "    <tr>\n",
              "      <th>0</th>\n",
              "      <td>2017-05-25 18:19:03</td>\n",
              "      <td>2017-05-25 18:45:53</td>\n",
              "      <td>1610.0</td>\n",
              "      <td>Theater on the Lake</td>\n",
              "      <td>Sheffield Ave &amp; Waveland Ave</td>\n",
              "      <td>Subscriber</td>\n",
              "      <td>Female</td>\n",
              "      <td>1992.0</td>\n",
              "    </tr>\n",
              "    <tr>\n",
              "      <th>1</th>\n",
              "      <td>2017-05-26 09:41:44</td>\n",
              "      <td>2017-05-26 09:46:25</td>\n",
              "      <td>281.0</td>\n",
              "      <td>Ashland Ave &amp; Lake St</td>\n",
              "      <td>Wood St &amp; Hubbard St</td>\n",
              "      <td>Subscriber</td>\n",
              "      <td>Female</td>\n",
              "      <td>1983.0</td>\n",
              "    </tr>\n",
              "    <tr>\n",
              "      <th>2</th>\n",
              "      <td>2017-05-30 15:46:18</td>\n",
              "      <td>2017-05-30 15:52:12</td>\n",
              "      <td>354.0</td>\n",
              "      <td>Larrabee St &amp; Kingsbury St</td>\n",
              "      <td>Clark St &amp; Elm St</td>\n",
              "      <td>Subscriber</td>\n",
              "      <td>Male</td>\n",
              "      <td>1985.0</td>\n",
              "    </tr>\n",
              "    <tr>\n",
              "      <th>3</th>\n",
              "      <td>2017-05-25 22:59:33</td>\n",
              "      <td>2017-05-25 23:07:19</td>\n",
              "      <td>466.0</td>\n",
              "      <td>Clark St &amp; Armitage Ave</td>\n",
              "      <td>Sheffield Ave &amp; Wrightwood Ave</td>\n",
              "      <td>Subscriber</td>\n",
              "      <td>Female</td>\n",
              "      <td>1985.0</td>\n",
              "    </tr>\n",
              "    <tr>\n",
              "      <th>4</th>\n",
              "      <td>2017-05-03 13:20:38</td>\n",
              "      <td>2017-05-03 13:31:13</td>\n",
              "      <td>635.0</td>\n",
              "      <td>Ada St &amp; Washington Blvd</td>\n",
              "      <td>Daley Center Plaza</td>\n",
              "      <td>Subscriber</td>\n",
              "      <td>Male</td>\n",
              "      <td>1967.0</td>\n",
              "    </tr>\n",
              "  </tbody>\n",
              "</table>\n",
              "</div>\n",
              "      <button class=\"colab-df-convert\" onclick=\"convertToInteractive('df-5e821fab-5f7a-4bcd-ac96-091e2c645c68')\"\n",
              "              title=\"Convert this dataframe to an interactive table.\"\n",
              "              style=\"display:none;\">\n",
              "        \n",
              "  <svg xmlns=\"http://www.w3.org/2000/svg\" height=\"24px\"viewBox=\"0 0 24 24\"\n",
              "       width=\"24px\">\n",
              "    <path d=\"M0 0h24v24H0V0z\" fill=\"none\"/>\n",
              "    <path d=\"M18.56 5.44l.94 2.06.94-2.06 2.06-.94-2.06-.94-.94-2.06-.94 2.06-2.06.94zm-11 1L8.5 8.5l.94-2.06 2.06-.94-2.06-.94L8.5 2.5l-.94 2.06-2.06.94zm10 10l.94 2.06.94-2.06 2.06-.94-2.06-.94-.94-2.06-.94 2.06-2.06.94z\"/><path d=\"M17.41 7.96l-1.37-1.37c-.4-.4-.92-.59-1.43-.59-.52 0-1.04.2-1.43.59L10.3 9.45l-7.72 7.72c-.78.78-.78 2.05 0 2.83L4 21.41c.39.39.9.59 1.41.59.51 0 1.02-.2 1.41-.59l7.78-7.78 2.81-2.81c.8-.78.8-2.07 0-2.86zM5.41 20L4 18.59l7.72-7.72 1.47 1.35L5.41 20z\"/>\n",
              "  </svg>\n",
              "      </button>\n",
              "      \n",
              "  <style>\n",
              "    .colab-df-container {\n",
              "      display:flex;\n",
              "      flex-wrap:wrap;\n",
              "      gap: 12px;\n",
              "    }\n",
              "\n",
              "    .colab-df-convert {\n",
              "      background-color: #E8F0FE;\n",
              "      border: none;\n",
              "      border-radius: 50%;\n",
              "      cursor: pointer;\n",
              "      display: none;\n",
              "      fill: #1967D2;\n",
              "      height: 32px;\n",
              "      padding: 0 0 0 0;\n",
              "      width: 32px;\n",
              "    }\n",
              "\n",
              "    .colab-df-convert:hover {\n",
              "      background-color: #E2EBFA;\n",
              "      box-shadow: 0px 1px 2px rgba(60, 64, 67, 0.3), 0px 1px 3px 1px rgba(60, 64, 67, 0.15);\n",
              "      fill: #174EA6;\n",
              "    }\n",
              "\n",
              "    [theme=dark] .colab-df-convert {\n",
              "      background-color: #3B4455;\n",
              "      fill: #D2E3FC;\n",
              "    }\n",
              "\n",
              "    [theme=dark] .colab-df-convert:hover {\n",
              "      background-color: #434B5C;\n",
              "      box-shadow: 0px 1px 3px 1px rgba(0, 0, 0, 0.15);\n",
              "      filter: drop-shadow(0px 1px 2px rgba(0, 0, 0, 0.3));\n",
              "      fill: #FFFFFF;\n",
              "    }\n",
              "  </style>\n",
              "\n",
              "      <script>\n",
              "        const buttonEl =\n",
              "          document.querySelector('#df-5e821fab-5f7a-4bcd-ac96-091e2c645c68 button.colab-df-convert');\n",
              "        buttonEl.style.display =\n",
              "          google.colab.kernel.accessAllowed ? 'block' : 'none';\n",
              "\n",
              "        async function convertToInteractive(key) {\n",
              "          const element = document.querySelector('#df-5e821fab-5f7a-4bcd-ac96-091e2c645c68');\n",
              "          const dataTable =\n",
              "            await google.colab.kernel.invokeFunction('convertToInteractive',\n",
              "                                                     [key], {});\n",
              "          if (!dataTable) return;\n",
              "\n",
              "          const docLinkHtml = 'Like what you see? Visit the ' +\n",
              "            '<a target=\"_blank\" href=https://colab.research.google.com/notebooks/data_table.ipynb>data table notebook</a>'\n",
              "            + ' to learn more about interactive tables.';\n",
              "          element.innerHTML = '';\n",
              "          dataTable['output_type'] = 'display_data';\n",
              "          await google.colab.output.renderOutput(dataTable, element);\n",
              "          const docLink = document.createElement('div');\n",
              "          docLink.innerHTML = docLinkHtml;\n",
              "          element.appendChild(docLink);\n",
              "        }\n",
              "      </script>\n",
              "    </div>\n",
              "  </div>\n",
              "  "
            ]
          },
          "metadata": {},
          "execution_count": 5
        }
      ]
    },
    {
      "cell_type": "markdown",
      "metadata": {
        "id": "kYN0cPdIPC56"
      },
      "source": [
        "## **Task 3: Replace null values in column `Gender` by `'Unknown'`. Replace null values in column `Birth Year` by -1. Note that this task has two desiganated code blocks.** \n",
        "\n",
        "The column `Gender` has Null values, as `trips.describe()` shows. Hence, we are using a string `Unknown` to indicate that the user's gender information is not recorded. The column `Birth Year` has Null values too. We thus use -1 to indicate missing values in `Birth Year`."
      ]
    },
    {
      "cell_type": "code",
      "metadata": {
        "id": "jhnZsvNfjZRN",
        "colab": {
          "base_uri": "https://localhost:8080/"
        },
        "outputId": "21255703-6b11-44d8-93fd-7f5e061ecfbb"
      },
      "source": [
        "# Code for Task 3 : code block for replacing null values in column Gender by ``Unknown``.\n",
        "trips[\"Gender\"]=trips[\"Gender\"].fillna(\"Unknown\")\n",
        "print(trips[\"Gender\"])\n",
        "print(\"number of null values in updated Column gender:\",trips[\"Gender\"].isnull().sum())"
      ],
      "execution_count": 6,
      "outputs": [
        {
          "output_type": "stream",
          "name": "stdout",
          "text": [
            "0         Female\n",
            "1         Female\n",
            "2           Male\n",
            "3         Female\n",
            "4           Male\n",
            "           ...  \n",
            "191958      Male\n",
            "191959    Female\n",
            "191960      Male\n",
            "191961    Female\n",
            "191962      Male\n",
            "Name: Gender, Length: 191963, dtype: object\n",
            "number of null values in updated Column gender: 0\n"
          ]
        }
      ]
    },
    {
      "cell_type": "code",
      "metadata": {
        "id": "NQa9ZyYlQ6Qk",
        "colab": {
          "base_uri": "https://localhost:8080/"
        },
        "outputId": "b82c4b22-199d-4626-f8e9-eed74f361fe3"
      },
      "source": [
        "# Code for Task 3: code block for replacing null values in column Birth Year by -1.\n",
        "trips['Birth Year']=trips['Birth Year'].fillna(-1)\n",
        "print(trips['Birth Year'])\n",
        "print(\"number of null values in updated Column birth:\",trips['Birth Year'].isna().sum())"
      ],
      "execution_count": 7,
      "outputs": [
        {
          "output_type": "stream",
          "name": "stdout",
          "text": [
            "0         1992.0\n",
            "1         1983.0\n",
            "2         1985.0\n",
            "3         1985.0\n",
            "4         1967.0\n",
            "           ...  \n",
            "191958    1972.0\n",
            "191959    1982.0\n",
            "191960    1972.0\n",
            "191961    1991.0\n",
            "191962    1972.0\n",
            "Name: Birth Year, Length: 191963, dtype: float64\n",
            "number of null values in updated Column birth: 0\n"
          ]
        }
      ]
    },
    {
      "cell_type": "markdown",
      "metadata": {
        "id": "ODrci3YORMlu"
      },
      "source": [
        "## **Task 4: Convert the data type of column ``Birth year`` to integer. Convert the data type of column ``Start Time`` and ``End Time`` to `datetime`.  Note that this task has two designated code blocks.**"
      ]
    },
    {
      "cell_type": "code",
      "metadata": {
        "id": "KueSujDQhuwc",
        "colab": {
          "base_uri": "https://localhost:8080/"
        },
        "outputId": "ef697280-0211-4211-bcc0-3f2e35b010f3"
      },
      "source": [
        "# Code for Task 4: code block for converting the data type of column ``Year Pubblished`` to integer.\n",
        "trips['Birth Year']=trips['Birth Year'].astype(int)\n",
        "trips.dtypes"
      ],
      "execution_count": 8,
      "outputs": [
        {
          "output_type": "execute_result",
          "data": {
            "text/plain": [
              "Start Time        object\n",
              "End Time          object\n",
              "Trip Duration    float64\n",
              "Start Station     object\n",
              "End Station       object\n",
              "User Type         object\n",
              "Gender            object\n",
              "Birth Year         int64\n",
              "dtype: object"
            ]
          },
          "metadata": {},
          "execution_count": 8
        }
      ]
    },
    {
      "cell_type": "code",
      "metadata": {
        "id": "bXvfJEsaRpnG",
        "colab": {
          "base_uri": "https://localhost:8080/"
        },
        "outputId": "2dfc7574-ffcb-4708-dffb-ab69530f1f97"
      },
      "source": [
        "# Code for Task 4: code block for converting the data type of column ``Start Time`` and ``End Time`` to ``datetime``. \n",
        "#trips['Start Time']=pd.to_datetime(trips['Start Time']) or\n",
        "trips['Start Time']=trips['Start Time'].astype('datetime64[ns]')\n",
        "#trips['End Time']=pd.to_datetime(trips['End Time']) or\n",
        "trips['End Time']=trips['End Time'].astype('datetime64[ns]')\n",
        "trips.dtypes"
      ],
      "execution_count": 9,
      "outputs": [
        {
          "output_type": "execute_result",
          "data": {
            "text/plain": [
              "Start Time       datetime64[ns]\n",
              "End Time         datetime64[ns]\n",
              "Trip Duration           float64\n",
              "Start Station            object\n",
              "End Station              object\n",
              "User Type                object\n",
              "Gender                   object\n",
              "Birth Year                int64\n",
              "dtype: object"
            ]
          },
          "metadata": {},
          "execution_count": 9
        }
      ]
    },
    {
      "cell_type": "markdown",
      "source": [
        "Run the following code cell so that, even if your code in preceding tasks messed up the data, it will not affect the ensuing tasks."
      ],
      "metadata": {
        "id": "qvJPaB5TsC13"
      }
    },
    {
      "cell_type": "code",
      "source": [
        "import pandas as pd\n",
        "#load the file  task5.pkl into a dataframe trips\n",
        "trips = pd.read_pickle(\"task5.pkl\")\n",
        "trips.head()\n"
      ],
      "metadata": {
        "id": "CgMI0OrnsPUE",
        "colab": {
          "base_uri": "https://localhost:8080/",
          "height": 206
        },
        "outputId": "6034f804-9777-4620-aea9-463f97bf15ee"
      },
      "execution_count": 10,
      "outputs": [
        {
          "output_type": "execute_result",
          "data": {
            "text/plain": [
              "           Start Time            End Time  Trip Duration  \\\n",
              "0 2017-05-25 18:19:03 2017-05-25 18:45:53         1610.0   \n",
              "1 2017-05-26 09:41:44 2017-05-26 09:46:25          281.0   \n",
              "2 2017-05-30 15:46:18 2017-05-30 15:52:12          354.0   \n",
              "3 2017-05-25 22:59:33 2017-05-25 23:07:19          466.0   \n",
              "4 2017-05-03 13:20:38 2017-05-03 13:31:13          635.0   \n",
              "\n",
              "                Start Station                     End Station   User Type  \\\n",
              "0         Theater on the Lake    Sheffield Ave & Waveland Ave  Subscriber   \n",
              "1       Ashland Ave & Lake St            Wood St & Hubbard St  Subscriber   \n",
              "2  Larrabee St & Kingsbury St               Clark St & Elm St  Subscriber   \n",
              "3     Clark St & Armitage Ave  Sheffield Ave & Wrightwood Ave  Subscriber   \n",
              "4    Ada St & Washington Blvd              Daley Center Plaza  Subscriber   \n",
              "\n",
              "   Gender  Birth Year  \n",
              "0  Female        1992  \n",
              "1  Female        1983  \n",
              "2    Male        1985  \n",
              "3  Female        1985  \n",
              "4    Male        1967  "
            ],
            "text/html": [
              "\n",
              "  <div id=\"df-df611a95-410f-45d3-9fc5-840b1376b2b7\">\n",
              "    <div class=\"colab-df-container\">\n",
              "      <div>\n",
              "<style scoped>\n",
              "    .dataframe tbody tr th:only-of-type {\n",
              "        vertical-align: middle;\n",
              "    }\n",
              "\n",
              "    .dataframe tbody tr th {\n",
              "        vertical-align: top;\n",
              "    }\n",
              "\n",
              "    .dataframe thead th {\n",
              "        text-align: right;\n",
              "    }\n",
              "</style>\n",
              "<table border=\"1\" class=\"dataframe\">\n",
              "  <thead>\n",
              "    <tr style=\"text-align: right;\">\n",
              "      <th></th>\n",
              "      <th>Start Time</th>\n",
              "      <th>End Time</th>\n",
              "      <th>Trip Duration</th>\n",
              "      <th>Start Station</th>\n",
              "      <th>End Station</th>\n",
              "      <th>User Type</th>\n",
              "      <th>Gender</th>\n",
              "      <th>Birth Year</th>\n",
              "    </tr>\n",
              "  </thead>\n",
              "  <tbody>\n",
              "    <tr>\n",
              "      <th>0</th>\n",
              "      <td>2017-05-25 18:19:03</td>\n",
              "      <td>2017-05-25 18:45:53</td>\n",
              "      <td>1610.0</td>\n",
              "      <td>Theater on the Lake</td>\n",
              "      <td>Sheffield Ave &amp; Waveland Ave</td>\n",
              "      <td>Subscriber</td>\n",
              "      <td>Female</td>\n",
              "      <td>1992</td>\n",
              "    </tr>\n",
              "    <tr>\n",
              "      <th>1</th>\n",
              "      <td>2017-05-26 09:41:44</td>\n",
              "      <td>2017-05-26 09:46:25</td>\n",
              "      <td>281.0</td>\n",
              "      <td>Ashland Ave &amp; Lake St</td>\n",
              "      <td>Wood St &amp; Hubbard St</td>\n",
              "      <td>Subscriber</td>\n",
              "      <td>Female</td>\n",
              "      <td>1983</td>\n",
              "    </tr>\n",
              "    <tr>\n",
              "      <th>2</th>\n",
              "      <td>2017-05-30 15:46:18</td>\n",
              "      <td>2017-05-30 15:52:12</td>\n",
              "      <td>354.0</td>\n",
              "      <td>Larrabee St &amp; Kingsbury St</td>\n",
              "      <td>Clark St &amp; Elm St</td>\n",
              "      <td>Subscriber</td>\n",
              "      <td>Male</td>\n",
              "      <td>1985</td>\n",
              "    </tr>\n",
              "    <tr>\n",
              "      <th>3</th>\n",
              "      <td>2017-05-25 22:59:33</td>\n",
              "      <td>2017-05-25 23:07:19</td>\n",
              "      <td>466.0</td>\n",
              "      <td>Clark St &amp; Armitage Ave</td>\n",
              "      <td>Sheffield Ave &amp; Wrightwood Ave</td>\n",
              "      <td>Subscriber</td>\n",
              "      <td>Female</td>\n",
              "      <td>1985</td>\n",
              "    </tr>\n",
              "    <tr>\n",
              "      <th>4</th>\n",
              "      <td>2017-05-03 13:20:38</td>\n",
              "      <td>2017-05-03 13:31:13</td>\n",
              "      <td>635.0</td>\n",
              "      <td>Ada St &amp; Washington Blvd</td>\n",
              "      <td>Daley Center Plaza</td>\n",
              "      <td>Subscriber</td>\n",
              "      <td>Male</td>\n",
              "      <td>1967</td>\n",
              "    </tr>\n",
              "  </tbody>\n",
              "</table>\n",
              "</div>\n",
              "      <button class=\"colab-df-convert\" onclick=\"convertToInteractive('df-df611a95-410f-45d3-9fc5-840b1376b2b7')\"\n",
              "              title=\"Convert this dataframe to an interactive table.\"\n",
              "              style=\"display:none;\">\n",
              "        \n",
              "  <svg xmlns=\"http://www.w3.org/2000/svg\" height=\"24px\"viewBox=\"0 0 24 24\"\n",
              "       width=\"24px\">\n",
              "    <path d=\"M0 0h24v24H0V0z\" fill=\"none\"/>\n",
              "    <path d=\"M18.56 5.44l.94 2.06.94-2.06 2.06-.94-2.06-.94-.94-2.06-.94 2.06-2.06.94zm-11 1L8.5 8.5l.94-2.06 2.06-.94-2.06-.94L8.5 2.5l-.94 2.06-2.06.94zm10 10l.94 2.06.94-2.06 2.06-.94-2.06-.94-.94-2.06-.94 2.06-2.06.94z\"/><path d=\"M17.41 7.96l-1.37-1.37c-.4-.4-.92-.59-1.43-.59-.52 0-1.04.2-1.43.59L10.3 9.45l-7.72 7.72c-.78.78-.78 2.05 0 2.83L4 21.41c.39.39.9.59 1.41.59.51 0 1.02-.2 1.41-.59l7.78-7.78 2.81-2.81c.8-.78.8-2.07 0-2.86zM5.41 20L4 18.59l7.72-7.72 1.47 1.35L5.41 20z\"/>\n",
              "  </svg>\n",
              "      </button>\n",
              "      \n",
              "  <style>\n",
              "    .colab-df-container {\n",
              "      display:flex;\n",
              "      flex-wrap:wrap;\n",
              "      gap: 12px;\n",
              "    }\n",
              "\n",
              "    .colab-df-convert {\n",
              "      background-color: #E8F0FE;\n",
              "      border: none;\n",
              "      border-radius: 50%;\n",
              "      cursor: pointer;\n",
              "      display: none;\n",
              "      fill: #1967D2;\n",
              "      height: 32px;\n",
              "      padding: 0 0 0 0;\n",
              "      width: 32px;\n",
              "    }\n",
              "\n",
              "    .colab-df-convert:hover {\n",
              "      background-color: #E2EBFA;\n",
              "      box-shadow: 0px 1px 2px rgba(60, 64, 67, 0.3), 0px 1px 3px 1px rgba(60, 64, 67, 0.15);\n",
              "      fill: #174EA6;\n",
              "    }\n",
              "\n",
              "    [theme=dark] .colab-df-convert {\n",
              "      background-color: #3B4455;\n",
              "      fill: #D2E3FC;\n",
              "    }\n",
              "\n",
              "    [theme=dark] .colab-df-convert:hover {\n",
              "      background-color: #434B5C;\n",
              "      box-shadow: 0px 1px 3px 1px rgba(0, 0, 0, 0.15);\n",
              "      filter: drop-shadow(0px 1px 2px rgba(0, 0, 0, 0.3));\n",
              "      fill: #FFFFFF;\n",
              "    }\n",
              "  </style>\n",
              "\n",
              "      <script>\n",
              "        const buttonEl =\n",
              "          document.querySelector('#df-df611a95-410f-45d3-9fc5-840b1376b2b7 button.colab-df-convert');\n",
              "        buttonEl.style.display =\n",
              "          google.colab.kernel.accessAllowed ? 'block' : 'none';\n",
              "\n",
              "        async function convertToInteractive(key) {\n",
              "          const element = document.querySelector('#df-df611a95-410f-45d3-9fc5-840b1376b2b7');\n",
              "          const dataTable =\n",
              "            await google.colab.kernel.invokeFunction('convertToInteractive',\n",
              "                                                     [key], {});\n",
              "          if (!dataTable) return;\n",
              "\n",
              "          const docLinkHtml = 'Like what you see? Visit the ' +\n",
              "            '<a target=\"_blank\" href=https://colab.research.google.com/notebooks/data_table.ipynb>data table notebook</a>'\n",
              "            + ' to learn more about interactive tables.';\n",
              "          element.innerHTML = '';\n",
              "          dataTable['output_type'] = 'display_data';\n",
              "          await google.colab.output.renderOutput(dataTable, element);\n",
              "          const docLink = document.createElement('div');\n",
              "          docLink.innerHTML = docLinkHtml;\n",
              "          element.appendChild(docLink);\n",
              "        }\n",
              "      </script>\n",
              "    </div>\n",
              "  </div>\n",
              "  "
            ]
          },
          "metadata": {},
          "execution_count": 10
        }
      ]
    },
    {
      "cell_type": "markdown",
      "metadata": {
        "id": "kHqtanC_ExhJ"
      },
      "source": [
        "We want to find out which gender of users used the vehicle sharing service more often.\n",
        "\n",
        "## **Task 5: Get the frequency of trips for both the Genders.**"
      ]
    },
    {
      "cell_type": "code",
      "metadata": {
        "id": "jERMksm6t7id",
        "colab": {
          "base_uri": "https://localhost:8080/",
          "height": 300
        },
        "outputId": "64deb460-9e3e-49f0-bf24-1129c5a2a147"
      },
      "source": [
        "# Code for Task 5\n",
        "print(\"male\",(trips[\"Gender\"]=='Male').sum(),\"\\nFemale\",(trips[\"Gender\"]=='Female').sum())\n",
        "## Task 5-1: Get the frequency of trips for both the  Genders.\n",
        "trips[\"Gender\"].value_counts().plot(kind=\"pie\",autopct='%.0f%%')\n",
        "# Task 5-2 Display the pie chart that represents the percentage (%) of trips for each Genders and display percentages in legend respectively\n"
      ],
      "execution_count": 11,
      "outputs": [
        {
          "output_type": "stream",
          "name": "stdout",
          "text": [
            "male 82335 \n",
            "Female 27952\n"
          ]
        },
        {
          "output_type": "execute_result",
          "data": {
            "text/plain": [
              "<Axes: ylabel='Gender'>"
            ]
          },
          "metadata": {},
          "execution_count": 11
        },
        {
          "output_type": "display_data",
          "data": {
            "text/plain": [
              "<Figure size 432x288 with 1 Axes>"
            ],
            "image/png": "[encoded data removed]"
          },
          "metadata": {}
        }
      ]
    },
    {
      "cell_type": "markdown",
      "metadata": {
        "id": "JLP24wFiAi0W"
      },
      "source": [
        "## **Task 6: Get the number of trips with each station as the starting point. Sort the start stations by frequency of trips, in descending order.**\n",
        "\n",
        "If you get the correct code, you will find that for 1719 trips `Streeter Dr & Grand Ave` is the `Starting Station`, which is the most among all stations. "
      ]
    },
    {
      "cell_type": "code",
      "metadata": {
        "id": "ajKIz33BP9ov",
        "colab": {
          "base_uri": "https://localhost:8080/"
        },
        "outputId": "5d48450d-1b82-4e29-a624-c7739f3700bd"
      },
      "source": [
        "# Code for Task 6\n",
        "trips['Start Station'].value_counts() #below will give the same output\n",
        "#trips['Start Station'].value_counts().sort_values(ascending=False)"
      ],
      "execution_count": 12,
      "outputs": [
        {
          "output_type": "execute_result",
          "data": {
            "text/plain": [
              "Streeter Dr & Grand Ave            1719\n",
              "Lake Shore Dr & Monroe St          1211\n",
              "Lincoln Memorial                   1112\n",
              "Jefferson Dr & 14th St SW          1042\n",
              "Columbus Circle / Union Station    1011\n",
              "                                   ... \n",
              "Phillips Ave & 79th St                1\n",
              "Damen Ave & 59th St                   1\n",
              "Exchange Ave & 79th St                1\n",
              "Halsted St & 69th St                  1\n",
              "NYCBS Depot - GOW                     1\n",
              "Name: Start Station, Length: 1616, dtype: int64"
            ]
          },
          "metadata": {},
          "execution_count": 12
        }
      ]
    },
    {
      "cell_type": "markdown",
      "source": [
        "\n",
        "## **Task 7: Find the longest trip (in seconds) in our dataset.**\n"
      ],
      "metadata": {
        "id": "tUxYxGy0uAbC"
      }
    },
    {
      "cell_type": "code",
      "source": [
        "# Code for Task 7\n",
        "trips[\"Trip Duration\"].max()"
      ],
      "metadata": {
        "id": "nMEJqtFuuRWE",
        "colab": {
          "base_uri": "https://localhost:8080/"
        },
        "outputId": "7b2e1c0b-81d7-4fd0-820f-a253849075d5"
      },
      "execution_count": 13,
      "outputs": [
        {
          "output_type": "execute_result",
          "data": {
            "text/plain": [
              "885567.6070000001"
            ]
          },
          "metadata": {},
          "execution_count": 13
        }
      ]
    },
    {
      "cell_type": "markdown",
      "source": [
        "## **Task 8: Find the start station and end staion for the longest trip.**\n",
        "\n",
        "If your code is correct, it should show the start and the end stations are __19th St & Constitution Ave NW__ and __23rd & E St NW__, respectively."
      ],
      "metadata": {
        "id": "7Hl5thB-1u5L"
      }
    },
    {
      "cell_type": "code",
      "source": [
        "# Code for Task 8\n",
        "print(trips.sort_values(by=\"Trip Duration\",ascending=False).iloc[0]['Start Station'])\n",
        "trips.sort_values(by=\"Trip Duration\",ascending=False).iloc[0]['End Station']"
      ],
      "metadata": {
        "id": "8Qp68Q1I7Z4M",
        "colab": {
          "base_uri": "https://localhost:8080/",
          "height": 53
        },
        "outputId": "7ef0eef1-fd3e-40d2-a2d1-d9ed4301366e"
      },
      "execution_count": 14,
      "outputs": [
        {
          "output_type": "stream",
          "name": "stdout",
          "text": [
            "19th St & Constitution Ave NW\n"
          ]
        },
        {
          "output_type": "execute_result",
          "data": {
            "text/plain": [
              "'23rd & E St NW '"
            ],
            "application/vnd.google.colaboratory.intrinsic+json": {
              "type": "string"
            }
          },
          "metadata": {},
          "execution_count": 14
        }
      ]
    },
    {
      "cell_type": "code",
      "source": [
        "#Display the countplot of  the  5 top  Trip Duration for each gender\n",
        "bcs = trips.groupby('Gender')['Trip Duration'].nlargest(5).reset_index()\n",
        "bcs.plot.bar(x='Gender', y='Trip Duration', rot=0)"
      ],
      "metadata": {
        "id": "Ocogb0g-BIzs",
        "colab": {
          "base_uri": "https://localhost:8080/",
          "height": 296
        },
        "outputId": "18c18b3f-bb88-4059-fd5d-8bcc2bf64395"
      },
      "execution_count": 16,
      "outputs": [
        {
          "output_type": "execute_result",
          "data": {
            "text/plain": [
              "<Axes: xlabel='Gender'>"
            ]
          },
          "metadata": {},
          "execution_count": 16
        },
        {
          "output_type": "display_data",
          "data": {
            "text/plain": [
              "<Figure size 432x288 with 1 Axes>"
            ],
            "image/png": "[encoded data removed]"
          },
          "metadata": {
            "needs_background": "light"
          }
        }
      ]
    },
    {
      "cell_type": "markdown",
      "metadata": {
        "id": "VHvPu_Tptin8"
      },
      "source": [
        "We want to analyze the user base of the vehicle sharing service, especially their age. For that let's create an `Age` column based on `Birth Year`. Since the trips all took place in May 2017, we should calculate the users' ages then (i.e., 2017) instead of now.\n",
        "\n",
        "## **Task 9: Create a column `Age` using `Birth Year`.**\n",
        "\n",
        "\n"
      ]
    },
    {
      "cell_type": "code",
      "metadata": {
        "id": "lylGsyz_T-2x",
        "colab": {
          "base_uri": "https://localhost:8080/",
          "height": 206
        },
        "outputId": "567f597f-86bf-437d-91d8-1698df73e443"
      },
      "source": [
        "# Code for Task 9\n",
        "trips[\"Age\"]=2017-trips[\"Birth Year\"]\n",
        "trips.head()"
      ],
      "execution_count": 17,
      "outputs": [
        {
          "output_type": "execute_result",
          "data": {
            "text/plain": [
              "           Start Time            End Time  Trip Duration  \\\n",
              "0 2017-05-25 18:19:03 2017-05-25 18:45:53         1610.0   \n",
              "1 2017-05-26 09:41:44 2017-05-26 09:46:25          281.0   \n",
              "2 2017-05-30 15:46:18 2017-05-30 15:52:12          354.0   \n",
              "3 2017-05-25 22:59:33 2017-05-25 23:07:19          466.0   \n",
              "4 2017-05-03 13:20:38 2017-05-03 13:31:13          635.0   \n",
              "\n",
              "                Start Station                     End Station   User Type  \\\n",
              "0         Theater on the Lake    Sheffield Ave & Waveland Ave  Subscriber   \n",
              "1       Ashland Ave & Lake St            Wood St & Hubbard St  Subscriber   \n",
              "2  Larrabee St & Kingsbury St               Clark St & Elm St  Subscriber   \n",
              "3     Clark St & Armitage Ave  Sheffield Ave & Wrightwood Ave  Subscriber   \n",
              "4    Ada St & Washington Blvd              Daley Center Plaza  Subscriber   \n",
              "\n",
              "   Gender  Birth Year  Age  \n",
              "0  Female        1992   25  \n",
              "1  Female        1983   34  \n",
              "2    Male        1985   32  \n",
              "3  Female        1985   32  \n",
              "4    Male        1967   50  "
            ],
            "text/html": [
              "\n",
              "  <div id=\"df-4c8dc950-36f5-45b6-8ff7-da03da83fb03\">\n",
              "    <div class=\"colab-df-container\">\n",
              "      <div>\n",
              "<style scoped>\n",
              "    .dataframe tbody tr th:only-of-type {\n",
              "        vertical-align: middle;\n",
              "    }\n",
              "\n",
              "    .dataframe tbody tr th {\n",
              "        vertical-align: top;\n",
              "    }\n",
              "\n",
              "    .dataframe thead th {\n",
              "        text-align: right;\n",
              "    }\n",
              "</style>\n",
              "<table border=\"1\" class=\"dataframe\">\n",
              "  <thead>\n",
              "    <tr style=\"text-align: right;\">\n",
              "      <th></th>\n",
              "      <th>Start Time</th>\n",
              "      <th>End Time</th>\n",
              "      <th>Trip Duration</th>\n",
              "      <th>Start Station</th>\n",
              "      <th>End Station</th>\n",
              "      <th>User Type</th>\n",
              "      <th>Gender</th>\n",
              "      <th>Birth Year</th>\n",
              "      <th>Age</th>\n",
              "    </tr>\n",
              "  </thead>\n",
              "  <tbody>\n",
              "    <tr>\n",
              "      <th>0</th>\n",
              "      <td>2017-05-25 18:19:03</td>\n",
              "      <td>2017-05-25 18:45:53</td>\n",
              "      <td>1610.0</td>\n",
              "      <td>Theater on the Lake</td>\n",
              "      <td>Sheffield Ave &amp; Waveland Ave</td>\n",
              "      <td>Subscriber</td>\n",
              "      <td>Female</td>\n",
              "      <td>1992</td>\n",
              "      <td>25</td>\n",
              "    </tr>\n",
              "    <tr>\n",
              "      <th>1</th>\n",
              "      <td>2017-05-26 09:41:44</td>\n",
              "      <td>2017-05-26 09:46:25</td>\n",
              "      <td>281.0</td>\n",
              "      <td>Ashland Ave &amp; Lake St</td>\n",
              "      <td>Wood St &amp; Hubbard St</td>\n",
              "      <td>Subscriber</td>\n",
              "      <td>Female</td>\n",
              "      <td>1983</td>\n",
              "      <td>34</td>\n",
              "    </tr>\n",
              "    <tr>\n",
              "      <th>2</th>\n",
              "      <td>2017-05-30 15:46:18</td>\n",
              "      <td>2017-05-30 15:52:12</td>\n",
              "      <td>354.0</td>\n",
              "      <td>Larrabee St &amp; Kingsbury St</td>\n",
              "      <td>Clark St &amp; Elm St</td>\n",
              "      <td>Subscriber</td>\n",
              "      <td>Male</td>\n",
              "      <td>1985</td>\n",
              "      <td>32</td>\n",
              "    </tr>\n",
              "    <tr>\n",
              "      <th>3</th>\n",
              "      <td>2017-05-25 22:59:33</td>\n",
              "      <td>2017-05-25 23:07:19</td>\n",
              "      <td>466.0</td>\n",
              "      <td>Clark St &amp; Armitage Ave</td>\n",
              "      <td>Sheffield Ave &amp; Wrightwood Ave</td>\n",
              "      <td>Subscriber</td>\n",
              "      <td>Female</td>\n",
              "      <td>1985</td>\n",
              "      <td>32</td>\n",
              "    </tr>\n",
              "    <tr>\n",
              "      <th>4</th>\n",
              "      <td>2017-05-03 13:20:38</td>\n",
              "      <td>2017-05-03 13:31:13</td>\n",
              "      <td>635.0</td>\n",
              "      <td>Ada St &amp; Washington Blvd</td>\n",
              "      <td>Daley Center Plaza</td>\n",
              "      <td>Subscriber</td>\n",
              "      <td>Male</td>\n",
              "      <td>1967</td>\n",
              "      <td>50</td>\n",
              "    </tr>\n",
              "  </tbody>\n",
              "</table>\n",
              "</div>\n",
              "      <button class=\"colab-df-convert\" onclick=\"convertToInteractive('df-4c8dc950-36f5-45b6-8ff7-da03da83fb03')\"\n",
              "              title=\"Convert this dataframe to an interactive table.\"\n",
              "              style=\"display:none;\">\n",
              "        \n",
              "  <svg xmlns=\"http://www.w3.org/2000/svg\" height=\"24px\"viewBox=\"0 0 24 24\"\n",
              "       width=\"24px\">\n",
              "    <path d=\"M0 0h24v24H0V0z\" fill=\"none\"/>\n",
              "    <path d=\"M18.56 5.44l.94 2.06.94-2.06 2.06-.94-2.06-.94-.94-2.06-.94 2.06-2.06.94zm-11 1L8.5 8.5l.94-2.06 2.06-.94-2.06-.94L8.5 2.5l-.94 2.06-2.06.94zm10 10l.94 2.06.94-2.06 2.06-.94-2.06-.94-.94-2.06-.94 2.06-2.06.94z\"/><path d=\"M17.41 7.96l-1.37-1.37c-.4-.4-.92-.59-1.43-.59-.52 0-1.04.2-1.43.59L10.3 9.45l-7.72 7.72c-.78.78-.78 2.05 0 2.83L4 21.41c.39.39.9.59 1.41.59.51 0 1.02-.2 1.41-.59l7.78-7.78 2.81-2.81c.8-.78.8-2.07 0-2.86zM5.41 20L4 18.59l7.72-7.72 1.47 1.35L5.41 20z\"/>\n",
              "  </svg>\n",
              "      </button>\n",
              "      \n",
              "  <style>\n",
              "    .colab-df-container {\n",
              "      display:flex;\n",
              "      flex-wrap:wrap;\n",
              "      gap: 12px;\n",
              "    }\n",
              "\n",
              "    .colab-df-convert {\n",
              "      background-color: #E8F0FE;\n",
              "      border: none;\n",
              "      border-radius: 50%;\n",
              "      cursor: pointer;\n",
              "      display: none;\n",
              "      fill: #1967D2;\n",
              "      height: 32px;\n",
              "      padding: 0 0 0 0;\n",
              "      width: 32px;\n",
              "    }\n",
              "\n",
              "    .colab-df-convert:hover {\n",
              "      background-color: #E2EBFA;\n",
              "      box-shadow: 0px 1px 2px rgba(60, 64, 67, 0.3), 0px 1px 3px 1px rgba(60, 64, 67, 0.15);\n",
              "      fill: #174EA6;\n",
              "    }\n",
              "\n",
              "    [theme=dark] .colab-df-convert {\n",
              "      background-color: #3B4455;\n",
              "      fill: #D2E3FC;\n",
              "    }\n",
              "\n",
              "    [theme=dark] .colab-df-convert:hover {\n",
              "      background-color: #434B5C;\n",
              "      box-shadow: 0px 1px 3px 1px rgba(0, 0, 0, 0.15);\n",
              "      filter: drop-shadow(0px 1px 2px rgba(0, 0, 0, 0.3));\n",
              "      fill: #FFFFFF;\n",
              "    }\n",
              "  </style>\n",
              "\n",
              "      <script>\n",
              "        const buttonEl =\n",
              "          document.querySelector('#df-4c8dc950-36f5-45b6-8ff7-da03da83fb03 button.colab-df-convert');\n",
              "        buttonEl.style.display =\n",
              "          google.colab.kernel.accessAllowed ? 'block' : 'none';\n",
              "\n",
              "        async function convertToInteractive(key) {\n",
              "          const element = document.querySelector('#df-4c8dc950-36f5-45b6-8ff7-da03da83fb03');\n",
              "          const dataTable =\n",
              "            await google.colab.kernel.invokeFunction('convertToInteractive',\n",
              "                                                     [key], {});\n",
              "          if (!dataTable) return;\n",
              "\n",
              "          const docLinkHtml = 'Like what you see? Visit the ' +\n",
              "            '<a target=\"_blank\" href=https://colab.research.google.com/notebooks/data_table.ipynb>data table notebook</a>'\n",
              "            + ' to learn more about interactive tables.';\n",
              "          element.innerHTML = '';\n",
              "          dataTable['output_type'] = 'display_data';\n",
              "          await google.colab.output.renderOutput(dataTable, element);\n",
              "          const docLink = document.createElement('div');\n",
              "          docLink.innerHTML = docLinkHtml;\n",
              "          element.appendChild(docLink);\n",
              "        }\n",
              "      </script>\n",
              "    </div>\n",
              "  </div>\n",
              "  "
            ]
          },
          "metadata": {},
          "execution_count": 17
        }
      ]
    },
    {
      "cell_type": "markdown",
      "metadata": {
        "id": "2PtdcFZaduxG"
      },
      "source": [
        "In Task 3 we replaced null values in `Birth Year` with -1. Some of the `Age` values thus incorrectly become 2018. We need to replace them with -1 again."
      ]
    },
    {
      "cell_type": "code",
      "source": [
        "trips['Age'] = trips['Age'].replace(2018, -1)"
      ],
      "metadata": {
        "id": "wvzqc6Oi8UZc"
      },
      "execution_count": 18,
      "outputs": []
    },
    {
      "cell_type": "markdown",
      "source": [
        "Run the following code cell so that, even if your code in preceding tasks messed up the data, it will not affect the ensuing tasks."
      ],
      "metadata": {
        "id": "T_UV69IMuaTn"
      }
    },
    {
      "cell_type": "code",
      "source": [
        "import pandas as pd\n",
        "#load the file task9.pkl into a dataframe trips\n",
        "trips = pd.read_pickle(\"task9.pkl\")\n",
        "trips.head()"
      ],
      "metadata": {
        "id": "H5f9Ow-muaTo",
        "colab": {
          "base_uri": "https://localhost:8080/",
          "height": 206
        },
        "outputId": "45ebc767-64a7-40b8-9b7f-d801712bbb7e"
      },
      "execution_count": 19,
      "outputs": [
        {
          "output_type": "execute_result",
          "data": {
            "text/plain": [
              "           Start Time            End Time  Trip Duration  \\\n",
              "0 2017-05-25 18:19:03 2017-05-25 18:45:53         1610.0   \n",
              "1 2017-05-26 09:41:44 2017-05-26 09:46:25          281.0   \n",
              "2 2017-05-30 15:46:18 2017-05-30 15:52:12          354.0   \n",
              "3 2017-05-25 22:59:33 2017-05-25 23:07:19          466.0   \n",
              "4 2017-05-03 13:20:38 2017-05-03 13:31:13          635.0   \n",
              "\n",
              "                Start Station                     End Station   User Type  \\\n",
              "0         Theater on the Lake    Sheffield Ave & Waveland Ave  Subscriber   \n",
              "1       Ashland Ave & Lake St            Wood St & Hubbard St  Subscriber   \n",
              "2  Larrabee St & Kingsbury St               Clark St & Elm St  Subscriber   \n",
              "3     Clark St & Armitage Ave  Sheffield Ave & Wrightwood Ave  Subscriber   \n",
              "4    Ada St & Washington Blvd              Daley Center Plaza  Subscriber   \n",
              "\n",
              "   Gender  Birth Year  Age  \n",
              "0  Female        1992   25  \n",
              "1  Female        1983   34  \n",
              "2    Male        1985   32  \n",
              "3  Female        1985   32  \n",
              "4    Male        1967   50  "
            ],
            "text/html": [
              "\n",
              "  <div id=\"df-3e5331d5-7673-44be-94b4-dd09c5d0b737\">\n",
              "    <div class=\"colab-df-container\">\n",
              "      <div>\n",
              "<style scoped>\n",
              "    .dataframe tbody tr th:only-of-type {\n",
              "        vertical-align: middle;\n",
              "    }\n",
              "\n",
              "    .dataframe tbody tr th {\n",
              "        vertical-align: top;\n",
              "    }\n",
              "\n",
              "    .dataframe thead th {\n",
              "        text-align: right;\n",
              "    }\n",
              "</style>\n",
              "<table border=\"1\" class=\"dataframe\">\n",
              "  <thead>\n",
              "    <tr style=\"text-align: right;\">\n",
              "      <th></th>\n",
              "      <th>Start Time</th>\n",
              "      <th>End Time</th>\n",
              "      <th>Trip Duration</th>\n",
              "      <th>Start Station</th>\n",
              "      <th>End Station</th>\n",
              "      <th>User Type</th>\n",
              "      <th>Gender</th>\n",
              "      <th>Birth Year</th>\n",
              "      <th>Age</th>\n",
              "    </tr>\n",
              "  </thead>\n",
              "  <tbody>\n",
              "    <tr>\n",
              "      <th>0</th>\n",
              "      <td>2017-05-25 18:19:03</td>\n",
              "      <td>2017-05-25 18:45:53</td>\n",
              "      <td>1610.0</td>\n",
              "      <td>Theater on the Lake</td>\n",
              "      <td>Sheffield Ave &amp; Waveland Ave</td>\n",
              "      <td>Subscriber</td>\n",
              "      <td>Female</td>\n",
              "      <td>1992</td>\n",
              "      <td>25</td>\n",
              "    </tr>\n",
              "    <tr>\n",
              "      <th>1</th>\n",
              "      <td>2017-05-26 09:41:44</td>\n",
              "      <td>2017-05-26 09:46:25</td>\n",
              "      <td>281.0</td>\n",
              "      <td>Ashland Ave &amp; Lake St</td>\n",
              "      <td>Wood St &amp; Hubbard St</td>\n",
              "      <td>Subscriber</td>\n",
              "      <td>Female</td>\n",
              "      <td>1983</td>\n",
              "      <td>34</td>\n",
              "    </tr>\n",
              "    <tr>\n",
              "      <th>2</th>\n",
              "      <td>2017-05-30 15:46:18</td>\n",
              "      <td>2017-05-30 15:52:12</td>\n",
              "      <td>354.0</td>\n",
              "      <td>Larrabee St &amp; Kingsbury St</td>\n",
              "      <td>Clark St &amp; Elm St</td>\n",
              "      <td>Subscriber</td>\n",
              "      <td>Male</td>\n",
              "      <td>1985</td>\n",
              "      <td>32</td>\n",
              "    </tr>\n",
              "    <tr>\n",
              "      <th>3</th>\n",
              "      <td>2017-05-25 22:59:33</td>\n",
              "      <td>2017-05-25 23:07:19</td>\n",
              "      <td>466.0</td>\n",
              "      <td>Clark St &amp; Armitage Ave</td>\n",
              "      <td>Sheffield Ave &amp; Wrightwood Ave</td>\n",
              "      <td>Subscriber</td>\n",
              "      <td>Female</td>\n",
              "      <td>1985</td>\n",
              "      <td>32</td>\n",
              "    </tr>\n",
              "    <tr>\n",
              "      <th>4</th>\n",
              "      <td>2017-05-03 13:20:38</td>\n",
              "      <td>2017-05-03 13:31:13</td>\n",
              "      <td>635.0</td>\n",
              "      <td>Ada St &amp; Washington Blvd</td>\n",
              "      <td>Daley Center Plaza</td>\n",
              "      <td>Subscriber</td>\n",
              "      <td>Male</td>\n",
              "      <td>1967</td>\n",
              "      <td>50</td>\n",
              "    </tr>\n",
              "  </tbody>\n",
              "</table>\n",
              "</div>\n",
              "      <button class=\"colab-df-convert\" onclick=\"convertToInteractive('df-3e5331d5-7673-44be-94b4-dd09c5d0b737')\"\n",
              "              title=\"Convert this dataframe to an interactive table.\"\n",
              "              style=\"display:none;\">\n",
              "        \n",
              "  <svg xmlns=\"http://www.w3.org/2000/svg\" height=\"24px\"viewBox=\"0 0 24 24\"\n",
              "       width=\"24px\">\n",
              "    <path d=\"M0 0h24v24H0V0z\" fill=\"none\"/>\n",
              "    <path d=\"M18.56 5.44l.94 2.06.94-2.06 2.06-.94-2.06-.94-.94-2.06-.94 2.06-2.06.94zm-11 1L8.5 8.5l.94-2.06 2.06-.94-2.06-.94L8.5 2.5l-.94 2.06-2.06.94zm10 10l.94 2.06.94-2.06 2.06-.94-2.06-.94-.94-2.06-.94 2.06-2.06.94z\"/><path d=\"M17.41 7.96l-1.37-1.37c-.4-.4-.92-.59-1.43-.59-.52 0-1.04.2-1.43.59L10.3 9.45l-7.72 7.72c-.78.78-.78 2.05 0 2.83L4 21.41c.39.39.9.59 1.41.59.51 0 1.02-.2 1.41-.59l7.78-7.78 2.81-2.81c.8-.78.8-2.07 0-2.86zM5.41 20L4 18.59l7.72-7.72 1.47 1.35L5.41 20z\"/>\n",
              "  </svg>\n",
              "      </button>\n",
              "      \n",
              "  <style>\n",
              "    .colab-df-container {\n",
              "      display:flex;\n",
              "      flex-wrap:wrap;\n",
              "      gap: 12px;\n",
              "    }\n",
              "\n",
              "    .colab-df-convert {\n",
              "      background-color: #E8F0FE;\n",
              "      border: none;\n",
              "      border-radius: 50%;\n",
              "      cursor: pointer;\n",
              "      display: none;\n",
              "      fill: #1967D2;\n",
              "      height: 32px;\n",
              "      padding: 0 0 0 0;\n",
              "      width: 32px;\n",
              "    }\n",
              "\n",
              "    .colab-df-convert:hover {\n",
              "      background-color: #E2EBFA;\n",
              "      box-shadow: 0px 1px 2px rgba(60, 64, 67, 0.3), 0px 1px 3px 1px rgba(60, 64, 67, 0.15);\n",
              "      fill: #174EA6;\n",
              "    }\n",
              "\n",
              "    [theme=dark] .colab-df-convert {\n",
              "      background-color: #3B4455;\n",
              "      fill: #D2E3FC;\n",
              "    }\n",
              "\n",
              "    [theme=dark] .colab-df-convert:hover {\n",
              "      background-color: #434B5C;\n",
              "      box-shadow: 0px 1px 3px 1px rgba(0, 0, 0, 0.15);\n",
              "      filter: drop-shadow(0px 1px 2px rgba(0, 0, 0, 0.3));\n",
              "      fill: #FFFFFF;\n",
              "    }\n",
              "  </style>\n",
              "\n",
              "      <script>\n",
              "        const buttonEl =\n",
              "          document.querySelector('#df-3e5331d5-7673-44be-94b4-dd09c5d0b737 button.colab-df-convert');\n",
              "        buttonEl.style.display =\n",
              "          google.colab.kernel.accessAllowed ? 'block' : 'none';\n",
              "\n",
              "        async function convertToInteractive(key) {\n",
              "          const element = document.querySelector('#df-3e5331d5-7673-44be-94b4-dd09c5d0b737');\n",
              "          const dataTable =\n",
              "            await google.colab.kernel.invokeFunction('convertToInteractive',\n",
              "                                                     [key], {});\n",
              "          if (!dataTable) return;\n",
              "\n",
              "          const docLinkHtml = 'Like what you see? Visit the ' +\n",
              "            '<a target=\"_blank\" href=https://colab.research.google.com/notebooks/data_table.ipynb>data table notebook</a>'\n",
              "            + ' to learn more about interactive tables.';\n",
              "          element.innerHTML = '';\n",
              "          dataTable['output_type'] = 'display_data';\n",
              "          await google.colab.output.renderOutput(dataTable, element);\n",
              "          const docLink = document.createElement('div');\n",
              "          docLink.innerHTML = docLinkHtml;\n",
              "          element.appendChild(docLink);\n",
              "        }\n",
              "      </script>\n",
              "    </div>\n",
              "  </div>\n",
              "  "
            ]
          },
          "metadata": {},
          "execution_count": 19
        }
      ]
    },
    {
      "cell_type": "markdown",
      "metadata": {
        "id": "xvRA6Z82eZCb"
      },
      "source": [
        "Now let's create a categorical feature `Age Group` based on `Age`. We can discretize `Age` into `Child` (for 00-14 years old), `Youth` (for 14-24 years old), `Adult` (for 24-64 years old), and `Senior` (64 years and over). We should set the value of `Age Group` to a string `N/A` if the `Age` value is -1. In every category range, the starting point is inclusive and the endpoint is exclusive. For instance, the `Child` group is for those with `Age` >= 0 and `Age` < 14."
      ]
    },
    {
      "cell_type": "markdown",
      "source": [
        "## **Task 10: Create a column `Age Group` and assign string values in this column based on `Age` according to the above description.**"
      ],
      "metadata": {
        "id": "P-st8xKuURXI"
      }
    },
    {
      "cell_type": "code",
      "source": [
        "# Code for Task 10\n",
        "def aG(year):\n",
        "  if year< 0:\n",
        "      return(\"N/A\")\n",
        "  elif year>0 and year<14:\n",
        "      return(\"Child\")\n",
        "  elif year>14 and year<24:\n",
        "      return(\"Youth\")\n",
        "  elif year>24 and year<64:\n",
        "      return(\"Adult\")\n",
        "  else:\n",
        "      return(\"Senior\")\n",
        "trips[\"Age Group\"]=trips[\"Age\"].apply(aG)\n",
        "trips.head()\n",
        "#trips['Age Group'] = pd.cut(trips['Age'], bins=[0, 14, 24, 64], labels=[ 'Child', 'Youth','Adult'])"
      ],
      "metadata": {
        "id": "UHQNRUp3UPtX",
        "colab": {
          "base_uri": "https://localhost:8080/",
          "height": 206
        },
        "outputId": "fcabb097-88fb-4abc-c015-c2f1b48e6946"
      },
      "execution_count": 20,
      "outputs": [
        {
          "output_type": "execute_result",
          "data": {
            "text/plain": [
              "           Start Time            End Time  Trip Duration  \\\n",
              "0 2017-05-25 18:19:03 2017-05-25 18:45:53         1610.0   \n",
              "1 2017-05-26 09:41:44 2017-05-26 09:46:25          281.0   \n",
              "2 2017-05-30 15:46:18 2017-05-30 15:52:12          354.0   \n",
              "3 2017-05-25 22:59:33 2017-05-25 23:07:19          466.0   \n",
              "4 2017-05-03 13:20:38 2017-05-03 13:31:13          635.0   \n",
              "\n",
              "                Start Station                     End Station   User Type  \\\n",
              "0         Theater on the Lake    Sheffield Ave & Waveland Ave  Subscriber   \n",
              "1       Ashland Ave & Lake St            Wood St & Hubbard St  Subscriber   \n",
              "2  Larrabee St & Kingsbury St               Clark St & Elm St  Subscriber   \n",
              "3     Clark St & Armitage Ave  Sheffield Ave & Wrightwood Ave  Subscriber   \n",
              "4    Ada St & Washington Blvd              Daley Center Plaza  Subscriber   \n",
              "\n",
              "   Gender  Birth Year  Age Age Group  \n",
              "0  Female        1992   25     Adult  \n",
              "1  Female        1983   34     Adult  \n",
              "2    Male        1985   32     Adult  \n",
              "3  Female        1985   32     Adult  \n",
              "4    Male        1967   50     Adult  "
            ],
            "text/html": [
              "\n",
              "  <div id=\"df-5069a3fc-b058-49af-991b-8e2cf034fd0d\">\n",
              "    <div class=\"colab-df-container\">\n",
              "      <div>\n",
              "<style scoped>\n",
              "    .dataframe tbody tr th:only-of-type {\n",
              "        vertical-align: middle;\n",
              "    }\n",
              "\n",
              "    .dataframe tbody tr th {\n",
              "        vertical-align: top;\n",
              "    }\n",
              "\n",
              "    .dataframe thead th {\n",
              "        text-align: right;\n",
              "    }\n",
              "</style>\n",
              "<table border=\"1\" class=\"dataframe\">\n",
              "  <thead>\n",
              "    <tr style=\"text-align: right;\">\n",
              "      <th></th>\n",
              "      <th>Start Time</th>\n",
              "      <th>End Time</th>\n",
              "      <th>Trip Duration</th>\n",
              "      <th>Start Station</th>\n",
              "      <th>End Station</th>\n",
              "      <th>User Type</th>\n",
              "      <th>Gender</th>\n",
              "      <th>Birth Year</th>\n",
              "      <th>Age</th>\n",
              "      <th>Age Group</th>\n",
              "    </tr>\n",
              "  </thead>\n",
              "  <tbody>\n",
              "    <tr>\n",
              "      <th>0</th>\n",
              "      <td>2017-05-25 18:19:03</td>\n",
              "      <td>2017-05-25 18:45:53</td>\n",
              "      <td>1610.0</td>\n",
              "      <td>Theater on the Lake</td>\n",
              "      <td>Sheffield Ave &amp; Waveland Ave</td>\n",
              "      <td>Subscriber</td>\n",
              "      <td>Female</td>\n",
              "      <td>1992</td>\n",
              "      <td>25</td>\n",
              "      <td>Adult</td>\n",
              "    </tr>\n",
              "    <tr>\n",
              "      <th>1</th>\n",
              "      <td>2017-05-26 09:41:44</td>\n",
              "      <td>2017-05-26 09:46:25</td>\n",
              "      <td>281.0</td>\n",
              "      <td>Ashland Ave &amp; Lake St</td>\n",
              "      <td>Wood St &amp; Hubbard St</td>\n",
              "      <td>Subscriber</td>\n",
              "      <td>Female</td>\n",
              "      <td>1983</td>\n",
              "      <td>34</td>\n",
              "      <td>Adult</td>\n",
              "    </tr>\n",
              "    <tr>\n",
              "      <th>2</th>\n",
              "      <td>2017-05-30 15:46:18</td>\n",
              "      <td>2017-05-30 15:52:12</td>\n",
              "      <td>354.0</td>\n",
              "      <td>Larrabee St &amp; Kingsbury St</td>\n",
              "      <td>Clark St &amp; Elm St</td>\n",
              "      <td>Subscriber</td>\n",
              "      <td>Male</td>\n",
              "      <td>1985</td>\n",
              "      <td>32</td>\n",
              "      <td>Adult</td>\n",
              "    </tr>\n",
              "    <tr>\n",
              "      <th>3</th>\n",
              "      <td>2017-05-25 22:59:33</td>\n",
              "      <td>2017-05-25 23:07:19</td>\n",
              "      <td>466.0</td>\n",
              "      <td>Clark St &amp; Armitage Ave</td>\n",
              "      <td>Sheffield Ave &amp; Wrightwood Ave</td>\n",
              "      <td>Subscriber</td>\n",
              "      <td>Female</td>\n",
              "      <td>1985</td>\n",
              "      <td>32</td>\n",
              "      <td>Adult</td>\n",
              "    </tr>\n",
              "    <tr>\n",
              "      <th>4</th>\n",
              "      <td>2017-05-03 13:20:38</td>\n",
              "      <td>2017-05-03 13:31:13</td>\n",
              "      <td>635.0</td>\n",
              "      <td>Ada St &amp; Washington Blvd</td>\n",
              "      <td>Daley Center Plaza</td>\n",
              "      <td>Subscriber</td>\n",
              "      <td>Male</td>\n",
              "      <td>1967</td>\n",
              "      <td>50</td>\n",
              "      <td>Adult</td>\n",
              "    </tr>\n",
              "  </tbody>\n",
              "</table>\n",
              "</div>\n",
              "      <button class=\"colab-df-convert\" onclick=\"convertToInteractive('df-5069a3fc-b058-49af-991b-8e2cf034fd0d')\"\n",
              "              title=\"Convert this dataframe to an interactive table.\"\n",
              "              style=\"display:none;\">\n",
              "        \n",
              "  <svg xmlns=\"http://www.w3.org/2000/svg\" height=\"24px\"viewBox=\"0 0 24 24\"\n",
              "       width=\"24px\">\n",
              "    <path d=\"M0 0h24v24H0V0z\" fill=\"none\"/>\n",
              "    <path d=\"M18.56 5.44l.94 2.06.94-2.06 2.06-.94-2.06-.94-.94-2.06-.94 2.06-2.06.94zm-11 1L8.5 8.5l.94-2.06 2.06-.94-2.06-.94L8.5 2.5l-.94 2.06-2.06.94zm10 10l.94 2.06.94-2.06 2.06-.94-2.06-.94-.94-2.06-.94 2.06-2.06.94z\"/><path d=\"M17.41 7.96l-1.37-1.37c-.4-.4-.92-.59-1.43-.59-.52 0-1.04.2-1.43.59L10.3 9.45l-7.72 7.72c-.78.78-.78 2.05 0 2.83L4 21.41c.39.39.9.59 1.41.59.51 0 1.02-.2 1.41-.59l7.78-7.78 2.81-2.81c.8-.78.8-2.07 0-2.86zM5.41 20L4 18.59l7.72-7.72 1.47 1.35L5.41 20z\"/>\n",
              "  </svg>\n",
              "      </button>\n",
              "      \n",
              "  <style>\n",
              "    .colab-df-container {\n",
              "      display:flex;\n",
              "      flex-wrap:wrap;\n",
              "      gap: 12px;\n",
              "    }\n",
              "\n",
              "    .colab-df-convert {\n",
              "      background-color: #E8F0FE;\n",
              "      border: none;\n",
              "      border-radius: 50%;\n",
              "      cursor: pointer;\n",
              "      display: none;\n",
              "      fill: #1967D2;\n",
              "      height: 32px;\n",
              "      padding: 0 0 0 0;\n",
              "      width: 32px;\n",
              "    }\n",
              "\n",
              "    .colab-df-convert:hover {\n",
              "      background-color: #E2EBFA;\n",
              "      box-shadow: 0px 1px 2px rgba(60, 64, 67, 0.3), 0px 1px 3px 1px rgba(60, 64, 67, 0.15);\n",
              "      fill: #174EA6;\n",
              "    }\n",
              "\n",
              "    [theme=dark] .colab-df-convert {\n",
              "      background-color: #3B4455;\n",
              "      fill: #D2E3FC;\n",
              "    }\n",
              "\n",
              "    [theme=dark] .colab-df-convert:hover {\n",
              "      background-color: #434B5C;\n",
              "      box-shadow: 0px 1px 3px 1px rgba(0, 0, 0, 0.15);\n",
              "      filter: drop-shadow(0px 1px 2px rgba(0, 0, 0, 0.3));\n",
              "      fill: #FFFFFF;\n",
              "    }\n",
              "  </style>\n",
              "\n",
              "      <script>\n",
              "        const buttonEl =\n",
              "          document.querySelector('#df-5069a3fc-b058-49af-991b-8e2cf034fd0d button.colab-df-convert');\n",
              "        buttonEl.style.display =\n",
              "          google.colab.kernel.accessAllowed ? 'block' : 'none';\n",
              "\n",
              "        async function convertToInteractive(key) {\n",
              "          const element = document.querySelector('#df-5069a3fc-b058-49af-991b-8e2cf034fd0d');\n",
              "          const dataTable =\n",
              "            await google.colab.kernel.invokeFunction('convertToInteractive',\n",
              "                                                     [key], {});\n",
              "          if (!dataTable) return;\n",
              "\n",
              "          const docLinkHtml = 'Like what you see? Visit the ' +\n",
              "            '<a target=\"_blank\" href=https://colab.research.google.com/notebooks/data_table.ipynb>data table notebook</a>'\n",
              "            + ' to learn more about interactive tables.';\n",
              "          element.innerHTML = '';\n",
              "          dataTable['output_type'] = 'display_data';\n",
              "          await google.colab.output.renderOutput(dataTable, element);\n",
              "          const docLink = document.createElement('div');\n",
              "          docLink.innerHTML = docLinkHtml;\n",
              "          element.appendChild(docLink);\n",
              "        }\n",
              "      </script>\n",
              "    </div>\n",
              "  </div>\n",
              "  "
            ]
          },
          "metadata": {},
          "execution_count": 20
        }
      ]
    },
    {
      "cell_type": "code",
      "source": [
        "trips['Age Group'].value_counts()"
      ],
      "metadata": {
        "id": "1RRAdkEvaPi_",
        "colab": {
          "base_uri": "https://localhost:8080/"
        },
        "outputId": "9a9a9ddf-3583-42b9-8140-576cbf558a95"
      },
      "execution_count": 21,
      "outputs": [
        {
          "output_type": "execute_result",
          "data": {
            "text/plain": [
              "Adult     99851\n",
              "N/A       81462\n",
              "Senior     6014\n",
              "Youth      4635\n",
              "Child         1\n",
              "Name: Age Group, dtype: int64"
            ]
          },
          "metadata": {},
          "execution_count": 21
        }
      ]
    },
    {
      "cell_type": "markdown",
      "source": [
        "Run the following code cell so that, even if your code in preceding tasks messed up the data, it will not affect the ensuing tasks."
      ],
      "metadata": {
        "id": "RN01l6B-vhX6"
      }
    },
    {
      "cell_type": "code",
      "source": [
        "import pandas as pd\n",
        "#load the file task10.pkl into a dataframe trips\n",
        "trips = pd.read_pickle(\"task10.pkl\")\n",
        "trips.head()"
      ],
      "metadata": {
        "id": "N8OhUgAmvhX6",
        "colab": {
          "base_uri": "https://localhost:8080/",
          "height": 206
        },
        "outputId": "92d52fc8-baf6-4aa3-d3cf-f3509f66bae9"
      },
      "execution_count": 22,
      "outputs": [
        {
          "output_type": "execute_result",
          "data": {
            "text/plain": [
              "           Start Time            End Time  Trip Duration  \\\n",
              "0 2017-05-25 18:19:03 2017-05-25 18:45:53         1610.0   \n",
              "1 2017-05-26 09:41:44 2017-05-26 09:46:25          281.0   \n",
              "2 2017-05-30 15:46:18 2017-05-30 15:52:12          354.0   \n",
              "3 2017-05-25 22:59:33 2017-05-25 23:07:19          466.0   \n",
              "4 2017-05-03 13:20:38 2017-05-03 13:31:13          635.0   \n",
              "\n",
              "                Start Station                     End Station   User Type  \\\n",
              "0         Theater on the Lake    Sheffield Ave & Waveland Ave  Subscriber   \n",
              "1       Ashland Ave & Lake St            Wood St & Hubbard St  Subscriber   \n",
              "2  Larrabee St & Kingsbury St               Clark St & Elm St  Subscriber   \n",
              "3     Clark St & Armitage Ave  Sheffield Ave & Wrightwood Ave  Subscriber   \n",
              "4    Ada St & Washington Blvd              Daley Center Plaza  Subscriber   \n",
              "\n",
              "   Gender  Birth Year  Age Age Group  \n",
              "0  Female        1992   25     Adult  \n",
              "1  Female        1983   34     Adult  \n",
              "2    Male        1985   32     Adult  \n",
              "3  Female        1985   32     Adult  \n",
              "4    Male        1967   50     Adult  "
            ],
            "text/html": [
              "\n",
              "  <div id=\"df-0d59c304-cf5f-41da-8711-de1f9ab0d262\">\n",
              "    <div class=\"colab-df-container\">\n",
              "      <div>\n",
              "<style scoped>\n",
              "    .dataframe tbody tr th:only-of-type {\n",
              "        vertical-align: middle;\n",
              "    }\n",
              "\n",
              "    .dataframe tbody tr th {\n",
              "        vertical-align: top;\n",
              "    }\n",
              "\n",
              "    .dataframe thead th {\n",
              "        text-align: right;\n",
              "    }\n",
              "</style>\n",
              "<table border=\"1\" class=\"dataframe\">\n",
              "  <thead>\n",
              "    <tr style=\"text-align: right;\">\n",
              "      <th></th>\n",
              "      <th>Start Time</th>\n",
              "      <th>End Time</th>\n",
              "      <th>Trip Duration</th>\n",
              "      <th>Start Station</th>\n",
              "      <th>End Station</th>\n",
              "      <th>User Type</th>\n",
              "      <th>Gender</th>\n",
              "      <th>Birth Year</th>\n",
              "      <th>Age</th>\n",
              "      <th>Age Group</th>\n",
              "    </tr>\n",
              "  </thead>\n",
              "  <tbody>\n",
              "    <tr>\n",
              "      <th>0</th>\n",
              "      <td>2017-05-25 18:19:03</td>\n",
              "      <td>2017-05-25 18:45:53</td>\n",
              "      <td>1610.0</td>\n",
              "      <td>Theater on the Lake</td>\n",
              "      <td>Sheffield Ave &amp; Waveland Ave</td>\n",
              "      <td>Subscriber</td>\n",
              "      <td>Female</td>\n",
              "      <td>1992</td>\n",
              "      <td>25</td>\n",
              "      <td>Adult</td>\n",
              "    </tr>\n",
              "    <tr>\n",
              "      <th>1</th>\n",
              "      <td>2017-05-26 09:41:44</td>\n",
              "      <td>2017-05-26 09:46:25</td>\n",
              "      <td>281.0</td>\n",
              "      <td>Ashland Ave &amp; Lake St</td>\n",
              "      <td>Wood St &amp; Hubbard St</td>\n",
              "      <td>Subscriber</td>\n",
              "      <td>Female</td>\n",
              "      <td>1983</td>\n",
              "      <td>34</td>\n",
              "      <td>Adult</td>\n",
              "    </tr>\n",
              "    <tr>\n",
              "      <th>2</th>\n",
              "      <td>2017-05-30 15:46:18</td>\n",
              "      <td>2017-05-30 15:52:12</td>\n",
              "      <td>354.0</td>\n",
              "      <td>Larrabee St &amp; Kingsbury St</td>\n",
              "      <td>Clark St &amp; Elm St</td>\n",
              "      <td>Subscriber</td>\n",
              "      <td>Male</td>\n",
              "      <td>1985</td>\n",
              "      <td>32</td>\n",
              "      <td>Adult</td>\n",
              "    </tr>\n",
              "    <tr>\n",
              "      <th>3</th>\n",
              "      <td>2017-05-25 22:59:33</td>\n",
              "      <td>2017-05-25 23:07:19</td>\n",
              "      <td>466.0</td>\n",
              "      <td>Clark St &amp; Armitage Ave</td>\n",
              "      <td>Sheffield Ave &amp; Wrightwood Ave</td>\n",
              "      <td>Subscriber</td>\n",
              "      <td>Female</td>\n",
              "      <td>1985</td>\n",
              "      <td>32</td>\n",
              "      <td>Adult</td>\n",
              "    </tr>\n",
              "    <tr>\n",
              "      <th>4</th>\n",
              "      <td>2017-05-03 13:20:38</td>\n",
              "      <td>2017-05-03 13:31:13</td>\n",
              "      <td>635.0</td>\n",
              "      <td>Ada St &amp; Washington Blvd</td>\n",
              "      <td>Daley Center Plaza</td>\n",
              "      <td>Subscriber</td>\n",
              "      <td>Male</td>\n",
              "      <td>1967</td>\n",
              "      <td>50</td>\n",
              "      <td>Adult</td>\n",
              "    </tr>\n",
              "  </tbody>\n",
              "</table>\n",
              "</div>\n",
              "      <button class=\"colab-df-convert\" onclick=\"convertToInteractive('df-0d59c304-cf5f-41da-8711-de1f9ab0d262')\"\n",
              "              title=\"Convert this dataframe to an interactive table.\"\n",
              "              style=\"display:none;\">\n",
              "        \n",
              "  <svg xmlns=\"http://www.w3.org/2000/svg\" height=\"24px\"viewBox=\"0 0 24 24\"\n",
              "       width=\"24px\">\n",
              "    <path d=\"M0 0h24v24H0V0z\" fill=\"none\"/>\n",
              "    <path d=\"M18.56 5.44l.94 2.06.94-2.06 2.06-.94-2.06-.94-.94-2.06-.94 2.06-2.06.94zm-11 1L8.5 8.5l.94-2.06 2.06-.94-2.06-.94L8.5 2.5l-.94 2.06-2.06.94zm10 10l.94 2.06.94-2.06 2.06-.94-2.06-.94-.94-2.06-.94 2.06-2.06.94z\"/><path d=\"M17.41 7.96l-1.37-1.37c-.4-.4-.92-.59-1.43-.59-.52 0-1.04.2-1.43.59L10.3 9.45l-7.72 7.72c-.78.78-.78 2.05 0 2.83L4 21.41c.39.39.9.59 1.41.59.51 0 1.02-.2 1.41-.59l7.78-7.78 2.81-2.81c.8-.78.8-2.07 0-2.86zM5.41 20L4 18.59l7.72-7.72 1.47 1.35L5.41 20z\"/>\n",
              "  </svg>\n",
              "      </button>\n",
              "      \n",
              "  <style>\n",
              "    .colab-df-container {\n",
              "      display:flex;\n",
              "      flex-wrap:wrap;\n",
              "      gap: 12px;\n",
              "    }\n",
              "\n",
              "    .colab-df-convert {\n",
              "      background-color: #E8F0FE;\n",
              "      border: none;\n",
              "      border-radius: 50%;\n",
              "      cursor: pointer;\n",
              "      display: none;\n",
              "      fill: #1967D2;\n",
              "      height: 32px;\n",
              "      padding: 0 0 0 0;\n",
              "      width: 32px;\n",
              "    }\n",
              "\n",
              "    .colab-df-convert:hover {\n",
              "      background-color: #E2EBFA;\n",
              "      box-shadow: 0px 1px 2px rgba(60, 64, 67, 0.3), 0px 1px 3px 1px rgba(60, 64, 67, 0.15);\n",
              "      fill: #174EA6;\n",
              "    }\n",
              "\n",
              "    [theme=dark] .colab-df-convert {\n",
              "      background-color: #3B4455;\n",
              "      fill: #D2E3FC;\n",
              "    }\n",
              "\n",
              "    [theme=dark] .colab-df-convert:hover {\n",
              "      background-color: #434B5C;\n",
              "      box-shadow: 0px 1px 3px 1px rgba(0, 0, 0, 0.15);\n",
              "      filter: drop-shadow(0px 1px 2px rgba(0, 0, 0, 0.3));\n",
              "      fill: #FFFFFF;\n",
              "    }\n",
              "  </style>\n",
              "\n",
              "      <script>\n",
              "        const buttonEl =\n",
              "          document.querySelector('#df-0d59c304-cf5f-41da-8711-de1f9ab0d262 button.colab-df-convert');\n",
              "        buttonEl.style.display =\n",
              "          google.colab.kernel.accessAllowed ? 'block' : 'none';\n",
              "\n",
              "        async function convertToInteractive(key) {\n",
              "          const element = document.querySelector('#df-0d59c304-cf5f-41da-8711-de1f9ab0d262');\n",
              "          const dataTable =\n",
              "            await google.colab.kernel.invokeFunction('convertToInteractive',\n",
              "                                                     [key], {});\n",
              "          if (!dataTable) return;\n",
              "\n",
              "          const docLinkHtml = 'Like what you see? Visit the ' +\n",
              "            '<a target=\"_blank\" href=https://colab.research.google.com/notebooks/data_table.ipynb>data table notebook</a>'\n",
              "            + ' to learn more about interactive tables.';\n",
              "          element.innerHTML = '';\n",
              "          dataTable['output_type'] = 'display_data';\n",
              "          await google.colab.output.renderOutput(dataTable, element);\n",
              "          const docLink = document.createElement('div');\n",
              "          docLink.innerHTML = docLinkHtml;\n",
              "          element.appendChild(docLink);\n",
              "        }\n",
              "      </script>\n",
              "    </div>\n",
              "  </div>\n",
              "  "
            ]
          },
          "metadata": {},
          "execution_count": 22
        }
      ]
    },
    {
      "cell_type": "markdown",
      "metadata": {
        "id": "_7uK2MuDgZ9r"
      },
      "source": [
        "Our next task attempts to examine the relationship between `Age Group` and average trip time."
      ]
    },
    {
      "cell_type": "markdown",
      "metadata": {
        "id": "g2O8f0jxgFpj"
      },
      "source": [
        "## **Task 11: For each value of `Age Group` (except for `N/A`), find the average `Trip Duration`.**"
      ]
    },
    {
      "cell_type": "code",
      "metadata": {
        "id": "WwF5yzxzOj2E",
        "colab": {
          "base_uri": "https://localhost:8080/"
        },
        "outputId": "6904840d-7fda-4a35-9a66-42ba0eb6ba8b"
      },
      "source": [
        "# Code for Task 11-1\n",
        "chbs=trips[trips['Age Group'] != 'N/A']\n",
        "avge =chbs.groupby('Age Group')['Trip Duration'].mean()\n",
        "print(avge)"
      ],
      "execution_count": 23,
      "outputs": [
        {
          "output_type": "stream",
          "name": "stdout",
          "text": [
            "Age Group\n",
            "Adult     765.169711\n",
            "Child     639.000000\n",
            "Senior    784.281887\n",
            "Youth     740.381014\n",
            "Name: Trip Duration, dtype: float64\n"
          ]
        }
      ]
    },
    {
      "cell_type": "code",
      "source": [
        "# Code for Task 11-2\n",
        "#Display the countplot of  the average Trip Duration for each Age Group\n",
        "avge.plot.bar(x='Age Group', rot=0)"
      ],
      "metadata": {
        "id": "dJOSnE_69GJL",
        "colab": {
          "base_uri": "https://localhost:8080/",
          "height": 296
        },
        "outputId": "5587f262-831f-419c-b707-b00b196b537e"
      },
      "execution_count": 24,
      "outputs": [
        {
          "output_type": "execute_result",
          "data": {
            "text/plain": [
              "<Axes: xlabel='Age Group'>"
            ]
          },
          "metadata": {},
          "execution_count": 24
        },
        {
          "output_type": "display_data",
          "data": {
            "text/plain": [
              "<Figure size 432x288 with 1 Axes>"
            ],
            "image/png": "[encoded data removed]"
          },
          "metadata": {
            "needs_background": "light"
          }
        }
      ]
    },
    {
      "cell_type": "markdown",
      "metadata": {
        "id": "vYBrZ_i8kbIz"
      },
      "source": [
        "## **Task 12: Produce a pivot table of number of trips, using `Gender` for rows and `User type` for columns. Exclude the trips from users whose gender is `Unknown`.**\n"
      ]
    },
    {
      "cell_type": "code",
      "metadata": {
        "id": "04GlWOrCYdqr",
        "colab": {
          "base_uri": "https://localhost:8080/"
        },
        "outputId": "c8774ea5-0f66-427b-db36-c7b538891609"
      },
      "source": [
        "# Code for Task 12 \n",
        "bsai=trips[trips['Gender'] != 'Unknown']\n",
        "bble =pd.pivot_table(bsai, index=\"Gender\", columns=\"User Type\",aggfunc='count',values=\"End Station\")\n",
        "print(bble)"
      ],
      "execution_count": 25,
      "outputs": [
        {
          "output_type": "stream",
          "name": "stdout",
          "text": [
            "User Type  Customer  Subscriber\n",
            "Gender                         \n",
            "Female          475       27477\n",
            "Male            895       81440\n"
          ]
        }
      ]
    },
    {
      "cell_type": "markdown",
      "source": [
        "## **Task 13: Get the average `Trip Duration` for each day of a week. The results should be sorted by average trip duration.**\n",
        "\n",
        "To decide the day of a trip, we only consider the trip's start time. For instance, if a trip starts on Monday, it is a Monday trip, regardless of when it ends. \n",
        "\n"
      ],
      "metadata": {
        "id": "nUqeCv7lkk8g"
      }
    },
    {
      "cell_type": "code",
      "source": [
        "# Code for Task 13-1\n",
        "tripdavg= trips.groupby(trips['Start Time'].dt.day_name())['Trip Duration'].mean().sort_values()\n",
        "print(tripdavg)"
      ],
      "metadata": {
        "id": "4TSCAsV4goW3",
        "colab": {
          "base_uri": "https://localhost:8080/"
        },
        "outputId": "f39e2a45-9970-45a2-c9c7-a07de60bbc2e"
      },
      "execution_count": 26,
      "outputs": [
        {
          "output_type": "stream",
          "name": "stdout",
          "text": [
            "Start Time\n",
            "Thursday      898.084620\n",
            "Tuesday       918.600529\n",
            "Wednesday     940.540680\n",
            "Friday        964.368331\n",
            "Monday       1092.311058\n",
            "Saturday     1344.448537\n",
            "Sunday       1382.117428\n",
            "Name: Trip Duration, dtype: float64\n"
          ]
        }
      ]
    },
    {
      "cell_type": "code",
      "source": [
        "# Code for Task 13-2\n",
        "tripdavg.plot.bar(x='Start Time', rot=0)\n",
        "#Display the countplot of  the average Trip Duration for each day of a week"
      ],
      "metadata": {
        "id": "KvN7XWAZ8MEk",
        "colab": {
          "base_uri": "https://localhost:8080/",
          "height": 296
        },
        "outputId": "0afe9e3d-d743-47c9-fa7f-8f8677703690"
      },
      "execution_count": 27,
      "outputs": [
        {
          "output_type": "execute_result",
          "data": {
            "text/plain": [
              "<Axes: xlabel='Start Time'>"
            ]
          },
          "metadata": {},
          "execution_count": 27
        },
        {
          "output_type": "display_data",
          "data": {
            "text/plain": [
              "<Figure size 432x288 with 1 Axes>"
            ],
            "image/png": "[encoded data removed]"
          },
          "metadata": {
            "needs_background": "light"
          }
        }
      ]
    },
    {
      "cell_type": "markdown",
      "source": [
        "## **Task 14: Get the three most popular trip routes, in terms of `Start Station` and `End Station`**\n"
      ],
      "metadata": {
        "id": "-0qacO9ux7L7"
      }
    },
    {
      "cell_type": "code",
      "source": [
        "# Code for Task 14\n",
        "sai=trips.groupby(['Start Station', 'End Station'])['Start Station', 'End Station'].value_counts().nlargest(3)\n",
        "print(sai)"
      ],
      "metadata": {
        "id": "iLibr4dPwyqp",
        "colab": {
          "base_uri": "https://localhost:8080/"
        },
        "outputId": "06ee2331-14f1-4658-8eb5-251e9110c87f"
      },
      "execution_count": 28,
      "outputs": [
        {
          "output_type": "stream",
          "name": "stderr",
          "text": [
            "<ipython-input-28-4aed37d00805>:2: FutureWarning: Indexing with multiple keys (implicitly converted to a tuple of keys) will be deprecated, use a list instead.\n",
            "  sai=trips.groupby(['Start Station', 'End Station'])['Start Station', 'End Station'].value_counts().nlargest(3)\n"
          ]
        },
        {
          "output_type": "stream",
          "name": "stdout",
          "text": [
            "Start Station              End Station              \n",
            "Lake Shore Dr & Monroe St  Streeter Dr & Grand Ave      255\n",
            "Streeter Dr & Grand Ave    Streeter Dr & Grand Ave      172\n",
            "Lake Shore Dr & Monroe St  Lake Shore Dr & Monroe St    165\n",
            "dtype: int64\n"
          ]
        }
      ]
    },
    {
      "cell_type": "code",
      "source": [
        "#Task 14-2 find out which gender of users used the three most popular trip routes more often.\n",
        "\n",
        "chbsai=trips.groupby(by=['Start Station','End Station']).count().iloc[:,0].sort_values().tail(3)[::-1].reset_index()\n",
        "print(\"Gender who often used the three most popular trips is'{}'\".format(trips[((trips['Start Station'] + trips['End Station']).isin(chbsai['Start Station'] + chbsai['End Station']))].groupby('Gender').count().iloc[:,0].sort_values().tail(1).index[0]))\n",
        "# Task 14-3: Display the countplot of the three most popular trip routes more often for  each of the genders \n",
        "\n",
        "bharg=trips[((trips[['Start Station','End Station']].apply(' _ '.join,axis=1)).isin(chbsai[['Start Station','End Station']].apply(' _ '.join,axis=1)))].loc[:,'Start Station':'Gender']\n",
        "sns.countplot(x='Gender',data=bharg,hue=bharg[['Start Station','End Station']].apply(\"_\".join,axis=1))\n"
      ],
      "metadata": {
        "colab": {
          "base_uri": "https://localhost:8080/",
          "height": 314
        },
        "id": "875hn3pJJGiU",
        "outputId": "3a262545-bbf1-4114-b609-8245e90a2d1d"
      },
      "execution_count": 29,
      "outputs": [
        {
          "output_type": "stream",
          "name": "stdout",
          "text": [
            "Gender who often used the three most popular trips is'Unknown'\n"
          ]
        },
        {
          "output_type": "execute_result",
          "data": {
            "text/plain": [
              "<Axes: xlabel='Gender', ylabel='count'>"
            ]
          },
          "metadata": {},
          "execution_count": 29
        },
        {
          "output_type": "display_data",
          "data": {
            "text/plain": [
              "<Figure size 432x288 with 1 Axes>"
            ],
            "image/png": "[encoded data removed]"
          },
          "metadata": {
            "needs_background": "light"
          }
        }
      ]
    }
  ]
}
